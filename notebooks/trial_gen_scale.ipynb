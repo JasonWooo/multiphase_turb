{
 "cells": [
  {
   "cell_type": "markdown",
   "id": "21051f0f-f447-47db-afa5-c1f091ef8e97",
   "metadata": {},
   "source": [
    "# This notebook\n",
    "\n",
    "* Generates .turb setup files for Athena++ to run on Freya\n",
    "    * Scales the cloud size from previous runs into new trials\n",
    "* Generates .sh files for running the code"
   ]
  },
  {
   "cell_type": "markdown",
   "id": "3afc5299-e9d5-4c64-8e38-f7b487b4deae",
   "metadata": {},
   "source": [
    "# Setup"
   ]
  },
  {
   "cell_type": "code",
   "execution_count": 298,
   "id": "d597115a-ec5a-44dd-ad94-3f1ee071d917",
   "metadata": {},
   "outputs": [
    {
     "name": "stdout",
     "output_type": "stream",
     "text": [
      "The autoreload extension is already loaded. To reload it, use:\n",
      "  %reload_ext autoreload\n"
     ]
    }
   ],
   "source": [
    "%matplotlib widget\n",
    "import matplotlib as mpl\n",
    "import matplotlib.pyplot as plt\n",
    "import numpy as np\n",
    "%matplotlib inline\n",
    "%load_ext autoreload\n",
    "%autoreload 2\n",
    "import pickle\n",
    "\n",
    "\n",
    "import sys\n",
    "import os\n",
    "sys.path.append(os.path.abspath('/freya/ptmp/mpa/wuze/codes'))\n",
    "from jason import plotting_def, plot_prettier\n",
    "\n",
    "plotting_def()"
   ]
  },
  {
   "cell_type": "markdown",
   "id": "2c041e10-8544-4151-933a-42978bb1272b",
   "metadata": {},
   "source": [
    "# Params"
   ]
  },
  {
   "cell_type": "markdown",
   "id": "89766e39-d8b7-4730-803a-3f7a9bd694f5",
   "metadata": {},
   "source": [
    "## Functions"
   ]
  },
  {
   "cell_type": "code",
   "execution_count": 299,
   "id": "b995a638-c89b-49ed-a626-ad0e946f2bf0",
   "metadata": {
    "jupyter": {
     "source_hidden": true
    }
   },
   "outputs": [],
   "source": [
    "def _into_dict(start_key, end_key):\n",
    "    all_keys = list(globals().keys())\n",
    "    dict_keys = all_keys[all_keys.index(start_key) : all_keys.index(end_key)+1]\n",
    "    parse_dict = {}\n",
    "    for key in dict_keys:\n",
    "        parse_dict[key] = globals()[key]\n",
    "    return parse_dict"
   ]
  },
  {
   "cell_type": "code",
   "execution_count": 300,
   "id": "6da2e277-0a16-4027-bd1c-159a61492b73",
   "metadata": {
    "jupyter": {
     "source_hidden": true
    }
   },
   "outputs": [],
   "source": [
    "\"\"\"Define constants\"\"\"\n",
    "\n",
    "class unit():\n",
    "    def __init__(self):        \n",
    "        # length, time, and mass constants\n",
    "        self.CONST_pc  = 3.086e18\n",
    "        self.CONST_yr  = 3.154e7\n",
    "        self.CONST_amu = 1.66053886e-24\n",
    "        self.CONST_kB  = 1.3806505e-16\n",
    "        self.unit_length = self.CONST_pc*1e3  # 1 kpc\n",
    "        self.unit_time   = self.CONST_yr*1e6  # 1 Myr\n",
    "        self.unit_density = self.CONST_amu    # 1 mp/cm-3\n",
    "        self.unit_velocity = self.unit_length/self.unit_time\n",
    "        self.KELVIN = self.unit_velocity*self.unit_velocity*self.CONST_amu/self.CONST_kB\n",
    "        self.unit_q = (self.unit_density * (self.unit_velocity**3))/self.unit_length\n",
    "        self.g = 5/3\n",
    "        \n",
    "        # avg atomic mass\n",
    "        Xsol = 1.0\n",
    "        Zsol = 1.0\n",
    "        \n",
    "        X = Xsol * 0.7381\n",
    "        Z = Zsol * 0.0134\n",
    "        Y = 1 - X - Z\n",
    "        \n",
    "        self.mu  = 1.0/(2.*X+ 3.*(1.-X-Z)/4.+ Z/2.);\n",
    "        self.mue = 2.0/(1.0+X);\n",
    "        self.muH = 1.0/X;\n",
    "        self.mH = 1.0\n",
    "\n",
    "        # alpha values for different sims\n",
    "        self.alpha_hyd = 2 ** (1 / 3)  # 1.26\n",
    "        \n",
    "        self.alpha_mhd = (2 * 4.2 / 0.77) ** (1 / 3)\n",
    "\n",
    "u = unit()"
   ]
  },
  {
   "cell_type": "code",
   "execution_count": 301,
   "id": "58e0456f-370f-44b6-856e-a79682f483a9",
   "metadata": {
    "jupyter": {
     "source_hidden": true
    }
   },
   "outputs": [],
   "source": [
    "def calc_T(P, rho):\n",
    "    \"\"\"\n",
    "    Calculates temeprature from constants\n",
    "    ----------\n",
    "    P: gas pressure\n",
    "    rho: gas density\n",
    "    \"\"\"\n",
    "    T = P/rho * u.KELVIN * u.mu\n",
    "    return T\n",
    "\n",
    "def calc_P(T, rho):\n",
    "    \"\"\"\n",
    "    Calculates pressure from constants\n",
    "    ----------\n",
    "    T: gas temperature\n",
    "    rho: gas density\n",
    "    \"\"\"\n",
    "    P = (T / 64**3) * (rho / 64**3) / (u.KELVIN * u.mu)\n",
    "    return P\n",
    "\n",
    "def calc_cs(T):\n",
    "    \"\"\"\n",
    "    Calculates sound speed\n",
    "    ----------\n",
    "    T: temperature\n",
    "    mu: avg atomic number of the gas\n",
    "    \"\"\"\n",
    "    # convert to cm\n",
    "    m_to_cm = 100\n",
    "\n",
    "    # return np.sqrt(g.g*R*T_hot/M) * m_to_cm/g.unit_velocity\n",
    "    # return np.sqrt(u.g * u.CONST_kB / (u.mu * u.CONST_amu) * T) * m_to_cm / u.unit_velocity\n",
    "    return np.sqrt(u.g * u.CONST_kB / (u.mu * u.CONST_amu) * T) / u.unit_velocity\n",
    "\n",
    "def calc_vturb(mach, P, rho):\n",
    "    \"\"\"\n",
    "    Calculates the turbulent velocity from desired Mach number M\n",
    "    ----------\n",
    "    mach: mach number\n",
    "    P, rho\n",
    "    \"\"\"\n",
    "    T = calc_T(P, rho)\n",
    "    cs = calc_cs(T)\n",
    "    return mach * cs\n",
    "def calc_vturb(mach, T):\n",
    "    \"\"\"\n",
    "    Calculates the turbulent velocity from desired Mach number M\n",
    "    ----------\n",
    "    mach: mach number\n",
    "    T\n",
    "    \"\"\"\n",
    "    cs = calc_cs(T)\n",
    "    return mach * cs\n",
    "\n",
    "def calc_mach(v_turb, P, rho):\n",
    "    \"\"\"\n",
    "    Calculates the Mach number\n",
    "    ----------\n",
    "    v_turb: turbulence velocity\n",
    "    P, rho\n",
    "    \"\"\"\n",
    "    T = calc_T(P, rho)\n",
    "    cs = calc_cs(T)\n",
    "    print(f'cs = {cs}')\n",
    "    return v_turb / cs\n",
    "\n",
    "def calc_dedt_mach(mach, P, rho, L):\n",
    "    \"\"\"\n",
    "    Returns required dedt for a given Mach number, pressure, density, and box size\n",
    "    \"\"\"\n",
    "    # calculate sound speed first\n",
    "    T = calc_T(P, rho)\n",
    "    cs_new = calc_cs(T)\n",
    "\n",
    "    dedt_req = rho * (cs_new**3) * (L**2) * (mach**3) / (u.alpha_hyd**3)\n",
    "    return dedt_req\n",
    "def calc_dedt_mach(mach, T, rho, L):\n",
    "    \"\"\"\n",
    "    Returns required dedt for a given Mach number, temperature, and box size\n",
    "    \"\"\"\n",
    "    # calculate sound speed first\n",
    "    cs_new = calc_cs(T)\n",
    "\n",
    "    dedt_req = rho * (cs_new**3) * (L**2) * (mach**3) / (u.alpha_hyd**3)\n",
    "    return dedt_req\n",
    "\n",
    "\n",
    "def calc_dedt_vturb(v_turb, rho, L):\n",
    "    \"\"\"\n",
    "    Returns required dedt for a given turbulent velocity, density, and box size\n",
    "\n",
    "    Does NOT calculate sound speed, so no pressure required\n",
    "    \"\"\"\n",
    "    \n",
    "    dedt_req = rho * v_turb**3 * (L**2) / (u.alpha_hyd**3)\n",
    "    return dedt_req\n",
    "\n",
    "def find_ind_l(seq, val):\n",
    "    seq = list(seq)\n",
    "    return seq.index(list(filter(lambda x: x>val, seq))[0])"
   ]
  },
  {
   "cell_type": "markdown",
   "id": "a4fd4611-616d-40b8-9cb2-9fed37320686",
   "metadata": {},
   "source": [
    "# Load params"
   ]
  },
  {
   "cell_type": "code",
   "execution_count": 302,
   "id": "e2352a8c-0723-4a3d-b3fb-60397a3603fb",
   "metadata": {},
   "outputs": [
    {
     "name": "stdout",
     "output_type": "stream",
     "text": [
      "/freya/ptmp/mpa/wuze/data/240711_0.4_320/turb/Turb.cons.00030.athdf\n"
     ]
    }
   ],
   "source": [
    "trial_old = '240711_0.4_16000'\n",
    "\n",
    "# turb_hdf_path = f'/freya/ptmp/mpa/wuze/data/cloud_hdfs/mach_{trial_old.split('_')[1]}.athdf'\n",
    "trial_dep = '240711_0.4_320'; turb_hdf_path = f'/freya/ptmp/mpa/wuze/data/{trial_dep}/turb/Turb.cons.{30:05d}.athdf'\n",
    "# turb_hdf_path = '../turb/Turb.cons.00100.athdf'\n",
    "\n",
    "trial_mach = 0  # leave as 0 to be the same\n",
    "\n",
    "\"\"\"SCALING PARAMETERS\"\"\"\n",
    "radius_scale = 2 # the scaling of radius relative to the previous run\n",
    "rho_scale = 1 # the scaling of density relative to the previous run\n",
    "clf_number = 0.3  # the Courant, Friedrichs, & Lewy (CFL) Number\n",
    "\n",
    "# print\n",
    "print(turb_hdf_path)"
   ]
  },
  {
   "cell_type": "code",
   "execution_count": 303,
   "id": "bb051194-43dd-4cef-afc3-048630933723",
   "metadata": {},
   "outputs": [
    {
     "name": "stdout",
     "output_type": "stream",
     "text": [
      "240711_0.4_16000 240716_0.4_32000\n"
     ]
    }
   ],
   "source": [
    "# generate new trial\n",
    "import datetime; date = str(datetime.datetime.now().date()).replace('-', '')[2:]  # six digit date\n",
    "trial_mach = trial_old.split('_')[1] if trial_mach == 0 else trial_mach\n",
    "\n",
    "trial_new = f'{date}_{trial_mach}_{float(trial_old.split('_')[-1]) * radius_scale * rho_scale:.0f}'\n",
    "print(trial_old, trial_new)\n",
    "\n",
    "import pickle\n",
    "datapath = f'/freya/ptmp/mpa/wuze/data/{trial_old}'\n",
    "with open(f'{datapath}/params.pickle', 'rb') as handle:\n",
    "    run_params_old = pickle.load(handle)"
   ]
  },
  {
   "cell_type": "markdown",
   "id": "d26c1a20-6f17-46ef-a4a8-0e5775bdf5fb",
   "metadata": {},
   "source": [
    "# Set params"
   ]
  },
  {
   "cell_type": "markdown",
   "id": "c877853f-c618-47d0-a58c-81cf923e94b1",
   "metadata": {},
   "source": [
    "## Change params"
   ]
  },
  {
   "cell_type": "code",
   "execution_count": 304,
   "id": "dd5cafd3-f7d5-4ee8-9c16-888a653ada13",
   "metadata": {},
   "outputs": [],
   "source": [
    "# new params\n",
    "\n",
    "\"\"\"\n",
    "RUN & BOX PARAMS\n",
    "\"\"\"\n",
    "\n",
    "## copy and change\n",
    "run_params_all = run_params_old.copy()\n",
    "run_params_all['trial'] = trial_new\n",
    "run_params_all['cloud_radius'] = run_params_old['cloud_radius'] * radius_scale  # multiply radius by scale\n",
    "run_params_all['rho_hot'] = run_params_old['rho_hot'] * rho_scale  # multiply density by scale\n",
    "run_params_all['mach'] = float(trial_mach)\n",
    "\n",
    "## dimensions\n",
    "run_params_all['grid_dim'] = 256  # scale up the dimensions\n",
    "run_params_all['grid_mesh'] = 32  # scale up the grid mesh\n",
    "run_params_all['pfloor'] = 1e-9  # DECREASE the pressure floor\n",
    "\n",
    "## scale of the box\n",
    "# run_params_all['box_scale'] = run_params_old['box_scale']  # keep the original box scale\n",
    "run_params_all['box_scale'] = 50\n",
    "run_params_all['box_size'] = run_params_all['cloud_radius'] * run_params_all['box_scale']  # get actual box size\n",
    "\n",
    "run_params_all['turb_cons_hdf_path'] = turb_hdf_path\n",
    "\n",
    "\"\"\"\n",
    "DERIVED PARAMS\n",
    "\"\"\"\n",
    "run_params_all['chi'] = run_params_all['T_hot'] / run_params_all['T_cloud']\n",
    "run_params_all['P_hot'] = calc_P(run_params_all['T_hot'], run_params_all['rho_hot'])  # scaled hot gas pressure\n",
    "run_params_all['v_turb'] = calc_vturb(run_params_all['mach'], T=run_params_all['T_hot'])  # turbulent velocity from desired mach number\n",
    "run_params_all['t_eddy'] = run_params_all['box_size']/run_params_all['v_turb']\n",
    "run_params_all['cs_hot'] = calc_cs(run_params_all['T_hot'])  # sound speed for hot gas\n",
    "\n",
    "run_params_all['T_mix'] = np.sqrt(run_params_all['T_cloud'] * run_params_all['T_hot'])\n",
    "run_params_all['T_warm'] = run_params_all['T_mix']  # set to mixed gas temperature, for tracking\n",
    "\n",
    "# dedt = 0.5 * v_turb^3 = (Mach_num*cs_hot)^3 given the density & box size\n",
    "run_params_all['dedt'] = calc_dedt_mach(run_params_all['mach'], T=run_params_all['T_hot'], rho=run_params_all['rho_hot'], L=run_params_all['box_size'])\n",
    "\n",
    "# tcorr ~ t_eddy\n",
    "run_params_all['t_corr'] = run_params_all['t_eddy']\n",
    "\n",
    "# dtdrive << t_eddy\n",
    "run_params_all['dt_drive'] = run_params_all['t_eddy'] / 1e3\n",
    "\n",
    "# the end time of simulation, multiples of time_start\n",
    "# reaches >5 t_cc or t_eddysqu\n",
    "run_params_all['t_cc'] = (run_params_all['chi'] ** (1/2) * run_params_all['cloud_radius'] / run_params_all['v_turb'])\n",
    "run_params_all['t_maxc'] = np.max([run_params_all['t_eddy'], run_params_all['t_cc']])  # 1 for floored, 1 for start\n",
    "# the start time of CLOUD simulation; the end time of the TURB simulation\n",
    "run_params_all['time_start'] = 3 * run_params_all['t_eddy']  # make it 3 x t_eddy\n",
    "# the end time of CLOUD simulation\n",
    "run_params_all['time_end'] = 5 * run_params_all['t_maxc'] + run_params_all['time_start']  # make the duration of the cloud runs 5 x t_cc\n",
    "run_params_all['dt_hdf5'] = run_params_all['t_maxc'] / 10  # the time interval between hdf5 outputs\n",
    "dt_hdf5_turb = run_params_all['t_eddy'] / 10  # tim interval between hdf5 outputs for TURB\n",
    "run_params_all['time_cloud'] = run_params_all['time_start']  # introduce cloud when simulation starts"
   ]
  },
  {
   "cell_type": "code",
   "execution_count": 305,
   "id": "337e1e45-57aa-4bea-ab29-4bb180ab62ad",
   "metadata": {
    "scrolled": true
   },
   "outputs": [
    {
     "name": "stdout",
     "output_type": "stream",
     "text": [
      "PARAMETER           NEW                           OLD                           \n",
      "----------------------------------------------------------------------\n",
      "trial               240716_0.4_32000              240711_0.4_16000              \n",
      "cloud_flag          1.00000e+00                   1.00000e+00                   \n",
      "T_cloud             800.0000000000                800.0000000000                \n",
      "cloud_radius        8.00000e-02                   4.00000e-02                   \n",
      "cloud_pos           [0, 0, 0]                     [0, 0, 0]                     \n",
      "box_scale           50.0000000000                 50.0000000000                 \n",
      "box_size            4.0000000000                  2.0000000000                  \n",
      "grid_dim            256.0000000000                256.0000000000                \n",
      "grid_vol            2097152.0000000000            2097152.0000000000            \n",
      "grid_mesh           32.0000000000                 32.0000000000                 \n",
      "T_floor             800.0000000000                800.0000000000                \n",
      "T_cold              1600.0000000000               1600.0000000000               \n",
      "T_ceil              100000000.0000000000          100000000.0000000000          \n",
      "cooling_flag        1.00000e+00                   1.00000e+00                   \n",
      "T_hot               4000000.0000000000            4000000.0000000000            \n",
      "rho_hot             1.00000e-01                   1.00000e-01                   \n",
      "mach                4.00000e-01                   4.00000e-01                   \n",
      "turb_cons_hdf_path  /freya/ptmp/mpa/wuze/data/240711_0.4_320/turb/Turb.cons.00030.athdf/freya/ptmp/mpa/wuze/data/240711_0.4_320/turb/Turb.cons.00030.athdf\n",
      "T_cut               1000000.0000000000            1000000.0000000000            \n",
      "chi                 5000.0000000000               5000.0000000000               \n",
      "P_hot               8.43868e-14                   8.43868e-14                   \n",
      "v_turb              1.24354e-01                   1.24354e-01                   \n",
      "t_eddy              32.1661114320                 16.0830557160                 \n",
      "cs_hot              3.10886e-01                   3.10886e-01                   \n",
      "T_mix               56568.5424949238              56568.5424949238              \n",
      "T_warm              56568.5424949238              56568.5424949238              \n",
      "dedt                1.53842e-03                   3.84604e-04                   \n",
      "t_corr              32.1661114320                 16.0830557160                 \n",
      "dt_drive            3.21661e-02                   1.60831e-02                   \n",
      "t_cc                45.4897510360                 22.7448755180                 \n",
      "t_maxc              45.4897510360                 22.7448755180                 \n",
      "time_start          96.4983342960                 48.2491671480                 \n",
      "time_end            323.9470894758                161.9735447379                \n",
      "dt_hdf5             4.5489751036                  2.2744875518                  \n",
      "time_cloud          96.4983342960                 48.2491671480                 \n",
      "pfloor              1.00000e-09                   1.00000e-09                   \n"
     ]
    }
   ],
   "source": [
    "# compare the two\n",
    "print(f\"{'PARAMETER':<20}{'NEW':<30}{'OLD':<30}\")\n",
    "print('-' * 70)\n",
    "for entry in run_params_all.keys():\n",
    "    try:  # for floats\n",
    "        if run_params_all[entry] > 1:  # if a fraction\n",
    "            print(f\"{entry:<20}{run_params_all[entry]:<30.10f}{run_params_old[entry]:<30.10f}\")\n",
    "        else:\n",
    "            print(f\"{entry:<20}{run_params_all[entry]:<30.5e}{run_params_old[entry]:<30.5e}\")\n",
    "    except:  # for strings\n",
    "        try:\n",
    "            print(f\"{entry:<20}{str(run_params_all[entry]):<30}{str(run_params_old[entry]):<30}\")\n",
    "        except:  # if old does not exist\n",
    "            try:\n",
    "                run_params_old[entry]\n",
    "            except:\n",
    "                print(f\"{entry:<20}{str(run_params_all[entry]):<30}{'NONE EXISTENT':<30}\")"
   ]
  },
  {
   "cell_type": "markdown",
   "id": "2c8b2202-386a-4d46-8ee4-074be5c30fed",
   "metadata": {},
   "source": [
    "## Save params"
   ]
  },
  {
   "cell_type": "code",
   "execution_count": 306,
   "id": "a7fde324-0899-4847-9d26-e1c816445225",
   "metadata": {},
   "outputs": [
    {
     "data": {
      "text/plain": [
       "'240716_0.4_32000'"
      ]
     },
     "execution_count": 306,
     "metadata": {},
     "output_type": "execute_result"
    }
   ],
   "source": [
    "\"\"\"Define run parameters\"\"\"\n",
    "\n",
    "class run_params():\n",
    "    def __init__(self, run_params_all):\n",
    "        self.trial = run_params_all['trial']\n",
    "        self.cloud_flag = run_params_all['cloud_flag']\n",
    "        self.T_cloud = run_params_all['T_cloud']\n",
    "        self.T_cold = run_params_all['T_cold']\n",
    "        self.cloud_radius = run_params_all['cloud_radius']\n",
    "        self.cloud_pos = run_params_all['cloud_pos']\n",
    "        self.box_size = run_params_all['box_size']\n",
    "        self.grid_dim = run_params_all['grid_dim']\n",
    "        self.grid_vol = run_params_all['grid_vol']\n",
    "        self.grid_mesh = run_params_all['grid_mesh']\n",
    "        self.pfloor = run_params_all['pfloor']\n",
    "        self.T_floor = run_params_all['T_floor']\n",
    "        self.T_ceil = run_params_all['T_ceil']\n",
    "        self.cooling_flag = run_params_all['cooling_flag']\n",
    "        self.T_hot = run_params_all['T_hot']\n",
    "        self.rho_hot = run_params_all['rho_hot']\n",
    "        self.mach = run_params_all['mach']\n",
    "        self.T_cut = run_params_all['T_cut']\n",
    "        self.chi = run_params_all['chi']\n",
    "        self.P_hot = run_params_all['P_hot']\n",
    "        self.v_turb = run_params_all['v_turb']\n",
    "        self.t_eddy = run_params_all['t_eddy']\n",
    "        self.cs_hot = run_params_all['cs_hot']\n",
    "        self.T_mix = run_params_all['T_mix']\n",
    "        self.T_warm = run_params_all['T_warm']\n",
    "        self.dedt = run_params_all['dedt']\n",
    "        self.t_corr = run_params_all['t_corr']\n",
    "        self.dt_drive = run_params_all['dt_drive']\n",
    "        self.t_cc = run_params_all['t_cc']\n",
    "        self.t_maxc = run_params_all['t_maxc']\n",
    "        self.time_start = run_params_all['time_start']\n",
    "        self.time_end = run_params_all['time_end']\n",
    "        self.dt_hdf5 = run_params_all['dt_hdf5']\n",
    "        self.time_cloud = run_params_all['time_cloud']\n",
    "\n",
    "rp = run_params(run_params_all)\n",
    "rp.trial"
   ]
  },
  {
   "cell_type": "code",
   "execution_count": 307,
   "id": "af745e25-5872-4a8c-99c0-3d2fe0878c6e",
   "metadata": {
    "jupyter": {
     "source_hidden": true
    }
   },
   "outputs": [
    {
     "name": "stdout",
     "output_type": "stream",
     "text": [
      "Made path /freya/ptmp/mpa/wuze/data/240716_0.4_32000\n"
     ]
    }
   ],
   "source": [
    "import os\n",
    "\n",
    "# make datapath\n",
    "datapath = f'/freya/ptmp/mpa/wuze/data/{rp.trial}'\n",
    "\n",
    "if not os.path.exists(datapath):\n",
    "    os.makedirs(datapath)\n",
    "    os.makedirs(f'{datapath}/cloud')\n",
    "    os.makedirs(f'{datapath}/turb')\n",
    "    print(f'Made path {datapath}')"
   ]
  },
  {
   "cell_type": "code",
   "execution_count": 308,
   "id": "bcd0e9e7-c3f2-4091-bb58-a3a4dfc997d8",
   "metadata": {
    "scrolled": true
   },
   "outputs": [
    {
     "data": {
      "text/plain": [
       "{'trial': '240716_0.4_32000',\n",
       " 'cloud_flag': True,\n",
       " 'T_cloud': 800.0,\n",
       " 'cloud_radius': 0.08,\n",
       " 'cloud_pos': [0, 0, 0],\n",
       " 'box_scale': 50,\n",
       " 'box_size': 4.0,\n",
       " 'grid_dim': 256,\n",
       " 'grid_vol': 2097152,\n",
       " 'grid_mesh': 32,\n",
       " 'T_floor': 800.0,\n",
       " 'T_cold': 1600.0,\n",
       " 'T_ceil': 100000000.0,\n",
       " 'cooling_flag': True,\n",
       " 'T_hot': 4000000.0,\n",
       " 'rho_hot': 0.1,\n",
       " 'mach': 0.4,\n",
       " 'turb_cons_hdf_path': '/freya/ptmp/mpa/wuze/data/240711_0.4_320/turb/Turb.cons.00030.athdf',\n",
       " 'T_cut': 1000000.0,\n",
       " 'chi': 5000.0,\n",
       " 'P_hot': 8.438675409534824e-14,\n",
       " 'v_turb': 0.12435447811137146,\n",
       " 't_eddy': 32.16611143201143,\n",
       " 'cs_hot': 0.31088619527842865,\n",
       " 'T_mix': 56568.5424949238,\n",
       " 'T_warm': 56568.5424949238,\n",
       " 'dedt': 0.0015384177235386331,\n",
       " 't_corr': 32.16611143201143,\n",
       " 'dt_drive': 0.032166111432011424,\n",
       " 't_cc': 45.48975103595482,\n",
       " 't_maxc': 45.48975103595482,\n",
       " 'time_start': 96.49833429603427,\n",
       " 'time_end': 323.94708947580835,\n",
       " 'dt_hdf5': 4.548975103595482,\n",
       " 'time_cloud': 96.49833429603427,\n",
       " 'pfloor': 1e-09}"
      ]
     },
     "execution_count": 308,
     "metadata": {},
     "output_type": "execute_result"
    }
   ],
   "source": [
    "# save as pickles\n",
    "# the dictionary saved here is separate from the rp object\n",
    "import pickle\n",
    "\n",
    "with open(f'{datapath}/params.pickle', 'wb') as handle:\n",
    "    pickle.dump(run_params_all, handle, protocol=pickle.HIGHEST_PROTOCOL)\n",
    "\n",
    "run_params_all"
   ]
  },
  {
   "cell_type": "markdown",
   "id": "b4718f66-03fb-4f70-bde1-e481a5beb769",
   "metadata": {},
   "source": [
    "# Gen .turb"
   ]
  },
  {
   "cell_type": "markdown",
   "id": "1305aaf4-6c0f-4213-be41-d978d97da1dd",
   "metadata": {},
   "source": [
    "## Readme"
   ]
  },
  {
   "cell_type": "code",
   "execution_count": 309,
   "id": "cac1d5c0-c16a-4fb5-b8ac-8fe97148eddf",
   "metadata": {
    "jupyter": {
     "source_hidden": true
    }
   },
   "outputs": [],
   "source": [
    "\"\"\"\n",
    "Generate readme\n",
    "\"\"\"\n",
    "\n",
    "def infgen_readme(datapath, readme_msg=\"This run\"):\n",
    "    f = open(f\"{datapath}/readme\", \"w\")\n",
    "    \n",
    "    # generate text\n",
    "    readme_text =\\\n",
    "    f\"\"\"\n",
    "{readme_msg}\n",
    "\n",
    "{'-' * 50}\n",
    "This run is auto-generated by the trial_gen.ipynb\n",
    "\n",
    "This run uses:\n",
    "    \"\"\"\n",
    "    \n",
    "    # generate variables\n",
    "    readme_vars = f'\\n{'-' * 20}\\n'\n",
    "    for key, val in run_params_all.items():\n",
    "        if isinstance(val, float):\n",
    "            app = f'{key} = {val:.4f}\\n'\n",
    "        else:\n",
    "            app = f'{key} = {val}\\n'\n",
    "        readme_vars += app\n",
    "    \n",
    "    f.write(readme_text)\n",
    "    f.write('-' * 50)\n",
    "    f.write(readme_vars)\n",
    "    f.close()"
   ]
  },
  {
   "cell_type": "markdown",
   "id": "640fb7a4-0233-4c66-b980-52f863fd4b5a",
   "metadata": {},
   "source": [
    "## athinput_init.turb"
   ]
  },
  {
   "cell_type": "code",
   "execution_count": 310,
   "id": "50221230-fa1b-42f6-a43a-12c4f46cc893",
   "metadata": {
    "jupyter": {
     "source_hidden": true
    }
   },
   "outputs": [],
   "source": [
    "\"\"\"\n",
    "Generate TURB .turb file\n",
    "\"\"\"\n",
    "def infgen_init_turb(datapath):\n",
    "    f = open(f\"{datapath}/turb/athinput_init.turb\", \"w\")\n",
    "    \n",
    "    # generate text\n",
    "    turb_config =\\\n",
    "    f\"\"\" \n",
    "<comment>\n",
    "problem   = Adding turbulence\n",
    "configure = --prob=turb_v2 -fft \n",
    "\n",
    "<job>\n",
    "problem_id = Turb # problem ID: basename of output filenames\n",
    "\n",
    "\n",
    "#~----------OUTPUTS-----------~#\n",
    "<output1>\n",
    "file_type  = hst        # history data dump\n",
    "dt         = {dt_hdf5_turb / 100 :<20.10f}# time increment between outputs\n",
    "\n",
    "<output2>\n",
    "file_type = hdf5        # HDF5 data dump\n",
    "variable  = prim        # variables to be output\n",
    "dt        = {dt_hdf5_turb:<20.10f}# time increment between outputs\n",
    "\n",
    "<output3>\n",
    "file_type = rst         # restart file dump                       \n",
    "dt        = {dt_hdf5_turb * 10 :<20.10f}# time increment between outputs\n",
    "\n",
    "<output4>\n",
    "file_type = hdf5        # HDF5 data dump\n",
    "variable  = cons        # variables to be output\n",
    "dt        = {dt_hdf5_turb:<20.10f}# time increment between outputs\n",
    "id        = cons\n",
    "\n",
    "#~----------SETUP-----------~#\n",
    "<time>\n",
    "cfl_number  = {clf_number:<20}# The Courant, Friedrichs, & Lewy (CFL) Number\n",
    "nlim        = -1        # cycle limit\n",
    "# time limit of second trial should be larger\n",
    "tlim        = {run_params_all['time_start']:<20.10f}# time limit for the turb run, where the cloud run starts\n",
    "integrator  = rk2       # time integration algorithm\n",
    "xorder      = 2         # order of spatial reconstruction\n",
    "ncycle_out  = 1         # interval for stdout summary info\n",
    "\n",
    "<mesh>\n",
    "nx1    = {run_params_all['grid_dim']}             # number of zones in x1-direction\n",
    "x1min  = {-run_params_all['box_size']/2}           # minimum value of x1\n",
    "x1max  = {run_params_all['box_size']/2}            # maximum value of x1\n",
    "ix1_bc = periodic       # inner-x1 boundary condition\n",
    "ox1_bc = periodic       # outer-x1 boundary condition\n",
    "\n",
    "nx2    = {run_params_all['grid_dim']}             # number of zones in x2-direction\n",
    "x2min  = {-run_params_all['box_size']/2}           # minimum value of x2\n",
    "x2max  = {run_params_all['box_size']/2}            # maximum value of x2\n",
    "ix2_bc = periodic       # inner-x2 boundary condition\n",
    "ox2_bc = periodic       # outer-x2 boundary condition\n",
    "\n",
    "nx3    = {run_params_all['grid_dim']}             # number of zones in x3-direction\n",
    "x3min  = {-run_params_all['box_size']/2}           # minimum value of x3\n",
    "x3max  = {run_params_all['box_size']/2}            # maximum value of x3\n",
    "ix3_bc = periodic       # inner-x3 boundary condition\n",
    "ox3_bc = periodic       # outer-x3 boundary condition\n",
    "\n",
    "refinement  = none      # type of mesh refinement to use\n",
    "\n",
    "<meshblock>\n",
    "nx1 = {run_params_all['grid_mesh']}                # block size in x1-direction\n",
    "nx2 = {run_params_all['grid_mesh']}                # block size in x2-direction\n",
    "nx3 = {run_params_all['grid_mesh']}                # block size in x3-direction\n",
    "\n",
    "<hydro>\n",
    "gamma      = 1.6666666666666667  # gamma = C_p/C_v\n",
    "pfloor     = {run_params_all['pfloor']:<20.10f}  # pressure floor\n",
    "\n",
    "#~----------TURBULENCE PARAMS-----------~#\n",
    "<turbulence>\n",
    "dedt       = {run_params_all['dedt']:<20.15f}# Energy injection rate (for driven) or Total energy (for decaying)\n",
    "nlow       = 0                   # cut-off wavenumber at low-k\n",
    "nhigh      = 2                   # cut-off wavenumber at high-k\n",
    "expo       = 2.0                 # power-law exponent\n",
    "tcorr      = {run_params_all['t_corr']:<20.15f}# correlation time for OU process (both impulsive and continuous)\n",
    "dtdrive    = {run_params_all['dt_drive']:<20.15f}# time interval between perturbation (impulsive)\n",
    "f_shear    = 0.3                 # the ratio of the shear component\n",
    "rseed      = 1                   # if non-negative, seed will be set by hand (slow PS generation)\n",
    "# dedt should be calibrated by        dedt = 0.5 * v_turb^3 = (Mach_num*cs_hot)^3\n",
    "# tcorr ~ t_eddy\n",
    "# dtdrive << t_eddy\n",
    "\n",
    "<problem>\n",
    "turb_flag    = 2                 # 1 for decaying, 2 (impulsive) or 3 (continuous) for driven turbulence\n",
    "rescale_flag = 1                 # 1 for cloud runs\n",
    "\n",
    "\n",
    "#~----------HEATING & COOLING-----------~#\n",
    "# User-defined variables:\n",
    "\n",
    "heating = 0.001                  # constant volume heating rate\n",
    "\n",
    "cs_hot = {run_params_all['cs_hot']:<20.10f}# hot gas sound speed for T~4e6K\n",
    "\n",
    "# turn on cooling for cloud runs\n",
    "cooling_flag = 0                 # set to 1 to turn on cooling, 0 to turn it off\n",
    "global_cooling_flag = 0          # set to 1 to turn on uniform global cooling, 0 to turn it off\n",
    "# turn on cloud\n",
    "restart_cloud_flag   = 0                 # set to 1 to add the cloud on restart, 0 to not \n",
    "hdf_cloud_flag       = 0                 # set to 1 to add the cloud after reading HDF5 file, 0 to not \n",
    "\n",
    "amb_rho      = {run_params_all['rho_hot']}               # density of the ambient medium, in code units\n",
    "\n",
    "\n",
    "#~----------CLOUD PROPERTIES-----------~#\n",
    "cloud_radius = {run_params_all['cloud_radius']:<20.10f}# radius of the cloud, in code units\n",
    "# this should be the same as simulation start\n",
    "start_time   = {0:<20.10f}# time of insertion of cloud, in code units\n",
    "cloud_time   = {run_params_all['time_cloud']:<20.10f}# time of insertion of cloud, in code units\n",
    "# temperature ratio T_init / T_cloud\n",
    "# TO SET COLD GAS TEMPERATURE, CHANGE HERE\n",
    "cloud_chi    = {run_params_all['chi']}               # density contrast of the cloud, rho_cloud/amb_rho\n",
    "\n",
    "cloud_pos_x  = {run_params_all['cloud_pos'][0]}               # cloud center position x-coordinate\n",
    "cloud_pos_y  = {run_params_all['cloud_pos'][1]}               # cloud center position y-coordinate\n",
    "cloud_pos_z  = {run_params_all['cloud_pos'][2]}               # cloud center position z-coordinate\n",
    "\n",
    "#~-----------TEMPERATURE----------~#\n",
    "T_floor      = {run_params_all['T_floor']:<10.0f}# floor temperature in the simulation\n",
    "T_ceil       = {run_params_all['T_ceil']:<10.0f}# ceiling temperature in the simulation\n",
    "\n",
    "# medium mass is integrated from 2 x temp\n",
    "T_hot_req    = {run_params_all['T_hot']:<10.0f}# hot medium temperature required, reset to this on restart, if cloud_flag is 1\n",
    "T_hot        = {run_params_all['T_hot']:<10.0f}# initial hot medium temperature (box heats up due to turbulence)\n",
    "T_cold       = {run_params_all['T_cold']:<10.0f}# cold medium temperature, ONLY used in cold gas mass calculation\n",
    "T_cut_mul    = 0.5               # T_cut = T_hot_req * T_cut_mul, gas higher than T_cut is not cooled\n",
    "# infinite cooling time for T > T_cut, want hot gas to stay hot for the medium\n",
    "T_cut        = {run_params_all['T_cut']:<10.0f}# gas higher than T_cut is not cooled\n",
    "T_warm       = {run_params_all['T_warm']:<10.2f}# warm medium temperature, ONLY used in warm gas mass calculation\n",
    "\n",
    "Xsol         = 1.0               # Change H-abundance src/utils/code_units\n",
    "Zsol         = 1.0               # Change metallicity src/utils/code_units\n",
    "\n",
    "B_x          = 0.0               # initial magnetic field in x-direction\n",
    "B_y          = 0.0               # initial magnetic field in y-direction\n",
    "B_z          = 0.0               # initial magnetic field in z-direction\n",
    "\n",
    "# only read if hdf_cloud_flag = 1\n",
    "cons_input_filename = /dev/null  # name of HDF5 file containing initial conditions\n",
    "dataset_cons   = cons       # name of dataset containing conserved values\n",
    "index_dens     = 0          # index of density in conserved dataset\n",
    "index_etot     = 1          # index of energy in conserved dataset (for nonbarotropic EOS)\n",
    "index_mom1     = 2          # index of x1-momentum in conserved dataset\n",
    "index_mom2     = 3          # index of x2-momentum in conserved dataset\n",
    "index_mom3     = 4          # index of x3-momentum in conserved dataset\n",
    "\n",
    "# only used if -b flag is on for compiling\n",
    "b1_input_filename = /dev/null  # name of HDF5 file containing initial conditions\n",
    "b2_input_filename = /dev/null  # name of HDF5 file containing initial conditions\n",
    "b3_input_filename = /dev/null  # name of HDF5 file containing initial conditions\n",
    "    \"\"\"\n",
    "    \n",
    "    # generate variables\n",
    "    f.write(turb_config)\n",
    "    f.write('-' * 50)\n",
    "    f.close()"
   ]
  },
  {
   "cell_type": "markdown",
   "id": "13cab1bb-733b-4b99-9988-51751f47b562",
   "metadata": {},
   "source": [
    "## athinput_cloud.turb"
   ]
  },
  {
   "cell_type": "code",
   "execution_count": 311,
   "id": "8ab7fcbc-0bb6-40d2-b91f-4ced4cf32c03",
   "metadata": {
    "jupyter": {
     "source_hidden": true
    }
   },
   "outputs": [],
   "source": [
    "\"\"\"\n",
    "Generate CLOUD .turb file\n",
    "\"\"\"\n",
    "def infgen_cloud_turb(datapath):\n",
    "    f = open(f\"{datapath}/cloud/athinput_cloud.turb\", \"w\")\n",
    "    \n",
    "    # generate text\n",
    "    cloud_config =\\\n",
    "    f\"\"\"\n",
    "<comment>\n",
    "problem   = Adding cloud\n",
    "configure = --prob=turb_v2 -fft \n",
    "\n",
    "<job>\n",
    "problem_id = Turb # problem ID: basename of output filenames\n",
    "\n",
    "\n",
    "#~----------OUTPUTS-----------~#\n",
    "<output1>\n",
    "file_type  = hst        # history data dump\n",
    "dt         = {run_params_all['dt_hdf5'] / 100 :<20.10f}# time increment between outputs\n",
    "\n",
    "<output2>\n",
    "file_type = hdf5        # HDF5 data dump\n",
    "variable  = prim        # variables to be output\n",
    "dt        = {run_params_all['dt_hdf5']:<20.10f}# time increment between outputs\n",
    "\n",
    "<output3>\n",
    "file_type = rst         # restart file dump                       \n",
    "dt        = {run_params_all['dt_hdf5'] * 10 :<20.10f}# time increment between outputs\n",
    "\n",
    "<output4>\n",
    "file_type = hdf5        # HDF5 data dump\n",
    "variable  = cons        # variables to be output\n",
    "dt        = {run_params_all['dt_hdf5']:<20.10f}# time increment between outputs\n",
    "id        = cons\n",
    "\n",
    "#~----------SETUP-----------~#\n",
    "<time>\n",
    "cfl_number  = {clf_number:<20}# The Courant, Friedrichs, & Lewy (CFL) Number\n",
    "nlim        = -1        # cycle limit\n",
    "# time limit of second trial should be larger\n",
    "tlim        = {run_params_all['time_end']:<20.10f}# time limit\n",
    "integrator  = rk2       # time integration algorithm\n",
    "xorder      = 2         # order of spatial reconstruction\n",
    "ncycle_out  = 1         # interval for stdout summary info\n",
    "\n",
    "<mesh>\n",
    "nx1    = {run_params_all['grid_dim']}             # number of zones in x1-direction\n",
    "x1min  = {-run_params_all['box_size']/2}           # minimum value of x1\n",
    "x1max  = {run_params_all['box_size']/2}            # maximum value of x1\n",
    "ix1_bc = periodic       # inner-x1 boundary condition\n",
    "ox1_bc = periodic       # outer-x1 boundary condition\n",
    "\n",
    "nx2    = {run_params_all['grid_dim']}             # number of zones in x2-direction\n",
    "x2min  = {-run_params_all['box_size']/2}           # minimum value of x2\n",
    "x2max  = {run_params_all['box_size']/2}            # maximum value of x2\n",
    "ix2_bc = periodic       # inner-x2 boundary condition\n",
    "ox2_bc = periodic       # outer-x2 boundary condition\n",
    "\n",
    "nx3    = {run_params_all['grid_dim']}             # number of zones in x3-direction\n",
    "x3min  = {-run_params_all['box_size']/2}           # minimum value of x3\n",
    "x3max  = {run_params_all['box_size']/2}            # maximum value of x3\n",
    "ix3_bc = periodic       # inner-x3 boundary condition\n",
    "ox3_bc = periodic       # outer-x3 boundary condition\n",
    "\n",
    "refinement  = none      # type of mesh refinement to use\n",
    "\n",
    "<meshblock>\n",
    "nx1 = {run_params_all['grid_mesh']}                # block size in x1-direction\n",
    "nx2 = {run_params_all['grid_mesh']}                # block size in x2-direction\n",
    "nx3 = {run_params_all['grid_mesh']}                # block size in x3-direction\n",
    "\n",
    "<hydro>\n",
    "gamma      = 1.6666666666666667  # gamma = C_p/C_v\n",
    "pfloor     = {run_params_all['pfloor']:<20.10f}  # pressure floor\n",
    "\n",
    "#~----------TURBULENCE PARAMS-----------~#\n",
    "<turbulence>\n",
    "dedt       = {run_params_all['dedt']:<20.15f}# Energy injection rate (for driven) or Total energy (for decaying)\n",
    "nlow       = 0                   # cut-off wavenumber at low-k\n",
    "nhigh      = 2                   # cut-off wavenumber at high-k\n",
    "expo       = 2.0                 # power-law exponent\n",
    "tcorr      = {run_params_all['t_corr']:<20.15f}# correlation time for OU process (both impulsive and continuous)\n",
    "dtdrive    = {run_params_all['dt_drive']:<20.15f}# time interval between perturbation (impulsive)\n",
    "f_shear    = 0.3                 # the ratio of the shear component\n",
    "rseed      = 1                   # if non-negative, seed will be set by hand (slow PS generation)\n",
    "# dedt should be calibrated by        dedt = 0.5 * v_turb^3 = (Mach_num*cs_hot)^3\n",
    "# tcorr ~ t_eddy\n",
    "# dtdrive << t_eddy\n",
    "\n",
    "<problem>\n",
    "turb_flag    = 2                 # 1 for decaying, 2 (impulsive) or 3 (continuous) for driven turbulence\n",
    "rescale_flag = 1                 # 1 for cloud runs\n",
    "\n",
    "\n",
    "#~----------HEATING & COOLING-----------~#\n",
    "# User-defined variables:\n",
    "\n",
    "heating = 0.001                  # constant volume heating rate\n",
    "\n",
    "cs_hot = {run_params_all['cs_hot']:<20.10f}# hot gas sound speed for T~4e6K\n",
    "\n",
    "# turn on cooling for cloud runs\n",
    "cooling_flag = {1 if run_params_all['cooling_flag'] else 0}                 # set to 1 to turn on cooling, 0 to turn it off\n",
    "global_cooling_flag = 0          # set to 1 to turn on uniform global cooling, 0 to turn it off\n",
    "# turn on cloud\n",
    "restart_cloud_flag   = 0                 # set to 1 to add the cloud on restart, 0 to not \n",
    "hdf_cloud_flag       = {1 if run_params_all['cloud_flag'] else 0}                 # set to 1 to add the cloud after reading HDF5 file, 0 to not \n",
    "\n",
    "amb_rho      = {run_params_all['rho_hot']}               # density of the ambient medium, in code units\n",
    "\n",
    "\n",
    "#~----------CLOUD PROPERTIES-----------~#\n",
    "cloud_radius = {run_params_all['cloud_radius']:<20.10f}# radius of the cloud, in code units\n",
    "# this should be the same as simulation start\n",
    "start_time   = {run_params_all['time_start']:<20.10f}# time of insertion of cloud, in code units\n",
    "cloud_time   = {run_params_all['time_cloud']:<20.10f}# time of insertion of cloud, in code units\n",
    "# temperature ratio T_init / T_cloud\n",
    "# TO SET COLD GAS TEMPERATURE, CHANGE HERE\n",
    "cloud_chi    = {run_params_all['chi']}               # density contrast of the cloud, rho_cloud/amb_rho\n",
    "\n",
    "cloud_pos_x  = {run_params_all['cloud_pos'][0]}               # cloud center position x-coordinate\n",
    "cloud_pos_y  = {run_params_all['cloud_pos'][1]}               # cloud center position y-coordinate\n",
    "cloud_pos_z  = {run_params_all['cloud_pos'][2]}               # cloud center position z-coordinate\n",
    "\n",
    "#~-----------TEMPERATURE----------~#\n",
    "T_floor      = {run_params_all['T_floor']:<10.0f}# floor temperature in the simulation\n",
    "T_ceil       = {run_params_all['T_ceil']:<10.0f}# ceiling temperature in the simulation\n",
    "\n",
    "# medium mass is integrated from 2 x temp\n",
    "T_hot_req    = {run_params_all['T_hot']:<10.0f}# hot medium temperature required, reset to this on restart, if cloud_flag is 1\n",
    "T_hot        = {run_params_all['T_hot']:<10.0f}# initial hot medium temperature (box heats up due to turbulence)\n",
    "T_cold       = {run_params_all['T_cold']:<10.0f}# cold medium temperature, ONLY used in cold gas mass calculation\n",
    "T_cut_mul    = 0.5               # T_cut = T_hot_req * T_cut_mul, gas higher than T_cut is not cooled\n",
    "# infinite cooling time for T > T_cut, want hot gas to stay hot for the medium\n",
    "T_cut        = {run_params_all['T_cut']:<10.0f}# gas higher than T_cut is not cooled\n",
    "T_warm       = {run_params_all['T_warm']:<10.2f}# warm medium temperature, ONLY used in warm gas mass calculation\n",
    "\n",
    "Xsol         = 1.0               # Change H-abundance src/utils/code_units\n",
    "Zsol         = 1.0               # Change metallicity src/utils/code_units\n",
    "\n",
    "B_x          = 0.0               # initial magnetic field in x-direction\n",
    "B_y          = 0.0               # initial magnetic field in y-direction\n",
    "B_z          = 0.0               # initial magnetic field in z-direction\n",
    "\n",
    "# only read if hdf_cloud_flag = 1\n",
    "cons_input_filename = {run_params_all['turb_cons_hdf_path']}  # name of HDF5 file containing initial conditions\n",
    "dataset_cons   = cons       # name of dataset containing conserved values\n",
    "index_dens     = 0          # index of density in conserved dataset\n",
    "index_etot     = 1          # index of energy in conserved dataset (for nonbarotropic EOS)\n",
    "index_mom1     = 2          # index of x1-momentum in conserved dataset\n",
    "index_mom2     = 3          # index of x2-momentum in conserved dataset\n",
    "index_mom3     = 4          # index of x3-momentum in conserved dataset\n",
    "\n",
    "# only used if -b flag is on for compiling\n",
    "b1_input_filename = /dev/null  # name of HDF5 file containing initial conditions\n",
    "b2_input_filename = /dev/null  # name of HDF5 file containing initial conditions\n",
    "b3_input_filename = /dev/null  # name of HDF5 file containing initial conditions\n",
    "    \"\"\"\n",
    "    \n",
    "    # generate variables\n",
    "    f.write(cloud_config)\n",
    "    f.write('-' * 50)\n",
    "    f.close()"
   ]
  },
  {
   "cell_type": "markdown",
   "id": "6bb7a9af-708d-4a80-975a-782f6ccf6f61",
   "metadata": {},
   "source": [
    "## Write files"
   ]
  },
  {
   "cell_type": "code",
   "execution_count": 312,
   "id": "8c20aee1-640c-4191-aeca-263ef7d965e0",
   "metadata": {},
   "outputs": [],
   "source": [
    "# readme\n",
    "readme_msg = \"\"\"\n",
    "\n",
    "THIS IS ONE OF THE NEW RUNS,\n",
    "check notebook on 24/7/12!\n",
    "\n",
    "These runs use:\n",
    "256 cell\n",
    "1/50 cloud radius\n",
    "1e-9 pfloor\n",
    "0.3 cfl\n",
    "\n",
    "\"\"\"\n",
    "infgen_readme(datapath=datapath, readme_msg=readme_msg)"
   ]
  },
  {
   "cell_type": "code",
   "execution_count": 313,
   "id": "9b4358ed-2eea-4ea3-8a0a-d178db145505",
   "metadata": {},
   "outputs": [],
   "source": [
    "# init / turb\n",
    "infgen_init_turb(datapath=datapath)"
   ]
  },
  {
   "cell_type": "code",
   "execution_count": 314,
   "id": "5b2cc17e-9884-43fe-b8b5-04fd95101b5c",
   "metadata": {},
   "outputs": [],
   "source": [
    "# cloud\n",
    "infgen_cloud_turb(datapath=datapath)"
   ]
  },
  {
   "cell_type": "code",
   "execution_count": 315,
   "id": "ecbcb635-57f5-4d6a-8371-1d6cfc76f122",
   "metadata": {},
   "outputs": [
    {
     "name": "stdout",
     "output_type": "stream",
     "text": [
      "2024-07-16 19:48:45.525173\n",
      "\n",
      "\n",
      "\n",
      "\n",
      "\n",
      "\n",
      "\n",
      "\n",
      "\n",
      "\n",
      "\n"
     ]
    }
   ],
   "source": [
    "import datetime\n",
    "print(datetime.datetime.now())\n",
    "print('\\n' * 10)"
   ]
  },
  {
   "cell_type": "code",
   "execution_count": 316,
   "id": "3995a821-c00f-4ca5-a1a4-6f910aafc026",
   "metadata": {},
   "outputs": [],
   "source": [
    "pass"
   ]
  },
  {
   "cell_type": "markdown",
   "id": "55668619-e70a-4e09-b6ee-a1fcd1780fda",
   "metadata": {},
   "source": [
    "# Gen .sh"
   ]
  },
  {
   "cell_type": "code",
   "execution_count": 317,
   "id": "7bd26db3-e38f-4f05-9c12-0bd071edd0ef",
   "metadata": {
    "scrolled": true
   },
   "outputs": [],
   "source": [
    "\"\"\"\n",
    "Get trial params\n",
    "\"\"\"\n",
    "import datetime\n",
    "date = str(datetime.datetime.now().date()).replace('-', '')[2:]  # six digit date\n",
    "run_dp = trial_new[7:]  # x_y"
   ]
  },
  {
   "cell_type": "markdown",
   "id": "e0257431-2890-4e16-8c22-a727598d83a4",
   "metadata": {},
   "source": [
    "## Turb.sh"
   ]
  },
  {
   "cell_type": "code",
   "execution_count": 318,
   "id": "54c65852-775b-433d-af6a-d44122f8a535",
   "metadata": {
    "jupyter": {
     "source_hidden": true
    }
   },
   "outputs": [
    {
     "name": "stdout",
     "output_type": "stream",
     "text": [
      "240716 0.4_32000 athena_turb 24h 3:55:00 3:50:00\n"
     ]
    }
   ],
   "source": [
    "\"\"\"\n",
    "Machine params\n",
    "\"\"\"\n",
    "executable = 'athena_turb'\n",
    "server = '24h' #test\n",
    "if server == '24h':\n",
    "    comp_time = '3:55:00'#'23:55:00'\n",
    "    comp_time_save = '3:50:00'#'23:50:00'\n",
    "elif server == 'test':\n",
    "    comp_time = '00:20:00'\n",
    "    comp_time_save = '00:19:00'\n",
    "\n",
    "print(date, run_dp, executable, server, comp_time, comp_time_save)"
   ]
  },
  {
   "cell_type": "code",
   "execution_count": 319,
   "id": "080661e8-18f1-449e-8c16-7daf7f4c9cc1",
   "metadata": {
    "jupyter": {
     "source_hidden": true
    }
   },
   "outputs": [
    {
     "name": "stdout",
     "output_type": "stream",
     "text": [
      "\n",
      "sbatch /freya/ptmp/mpa/wuze/data/240716_0.4_32000/js_turb_24h.sh\n",
      "\n"
     ]
    }
   ],
   "source": [
    "sh_content = f\"\"\"#!/usr/bin/env bash\n",
    "# source ~/.bashrc\n",
    "\n",
    "#SBATCH -J {date[2:]}{trial_new[6:]}_turb\n",
    "#SBATCH -o ./out/{date}/{run_dp}_turb.\"%j\".out\n",
    "#SBATCH -e ./out/{date}/{run_dp}_turb.\"%j\".err\n",
    "#SBATCH --mail-user wuz@mpa-garching.mpg.de\n",
    "#-- wuz@mpa-garching.mpg.de\n",
    "#SBATCH --partition=p.24h\n",
    "#-- p.24h, p.test, p.gpu & p.gpu.ampere\n",
    "#SBATCH --mail-type=ALL\n",
    "#SBATCH --nodes=16\n",
    "#-- 2 at most?\n",
    "#SBATCH --ntasks-per-node=32\n",
    "#-- 40 at most\n",
    "#SBATCH --time={comp_time}\n",
    "#-- in format hh:mm:ss\n",
    "\n",
    "set -e\n",
    "SECONDS=0\n",
    "\n",
    "module purge\n",
    "module load intel/19.1.2\n",
    "module load impi/2019.8\n",
    "module load fftw-mpi/3.3.8\n",
    "module load hdf5-mpi/1.8.21\n",
    "module load ffmpeg/4.4\n",
    "module list\n",
    "\n",
    "echo {trial_new}\n",
    "cd $DP/{trial_new}/turb\n",
    "\n",
    "srun ../../{executable} -i athinput_init.turb -t {comp_time_save}\n",
    "#-- !!TIME_LIMIT_RST!! should be ten minutes before the end, to generate a restart file\n",
    "\n",
    "echo \"Elapsed: $(($SECONDS / 3600))hrs $((($SECONDS / 60) % 60))min $(($SECONDS % 60))sec\"\n",
    "\n",
    "echo \"Boom!\"\n",
    "\n",
    "cd ~\n",
    "\"\"\"\n",
    "\n",
    "# write the file\n",
    "file_name = f\"{datapath}/js_turb_24h.sh\" if server == '24h' else f\"{datapath}/js_turb.sh\"\n",
    "with open(file_name, 'w') as file:\n",
    "    file.write(sh_content)\n",
    "\n",
    "# print the squeue command\n",
    "squeue_cmd = f\"\"\"\n",
    "sbatch {datapath}/js_turb_24h.sh\n",
    "\"\"\"\n",
    "print(squeue_cmd)"
   ]
  },
  {
   "cell_type": "markdown",
   "id": "53d7c14a-8684-4b14-b5dc-2f0788036d7a",
   "metadata": {},
   "source": [
    "## Cloud.sh"
   ]
  },
  {
   "cell_type": "code",
   "execution_count": 320,
   "id": "1df2c08a-935d-4163-a474-054cafd9254f",
   "metadata": {},
   "outputs": [
    {
     "name": "stdout",
     "output_type": "stream",
     "text": [
      "240716 0.4_32000 athena_stop 24h 5:55:00 5:50:00\n"
     ]
    }
   ],
   "source": [
    "\"\"\"\n",
    "Machine params\n",
    "\"\"\"\n",
    "executable = 'athena_stop'#'athena_turb'\n",
    "server = '24h' #test\n",
    "if server == '24h':\n",
    "    comp_time = '5:55:00'#'23:55:00'\n",
    "    comp_time_save = '5:50:00'#'23:50:00'\n",
    "elif server == 'test':\n",
    "    comp_time = '00:20:00'\n",
    "    comp_time_save = '00:19:00'\n",
    "\n",
    "print(date, run_dp, executable, server, comp_time, comp_time_save)"
   ]
  },
  {
   "cell_type": "code",
   "execution_count": 321,
   "id": "926d724f-9036-4b82-ba27-c482787d758a",
   "metadata": {
    "jupyter": {
     "source_hidden": true
    }
   },
   "outputs": [
    {
     "name": "stdout",
     "output_type": "stream",
     "text": [
      "\n",
      "sbatch /freya/ptmp/mpa/wuze/data/240716_0.4_32000/js_cloud_24h.sh\n",
      "\n",
      "\n",
      "sbatch --dependency=afterok:XXX /freya/ptmp/mpa/wuze/data/240716_0.4_32000/js_cloud_24h.sh\n",
      "\n"
     ]
    }
   ],
   "source": [
    "sh_content = f\"\"\"#!/usr/bin/env bash\n",
    "# source ~/.bashrc\n",
    "\n",
    "#SBATCH -J {date[2:]}{trial_new[6:]}_cloud\n",
    "#SBATCH -o ./out/{date}/{run_dp}_cloud.\"%j\".out\n",
    "#SBATCH -e ./out/{date}/{run_dp}_cloud.\"%j\".err\n",
    "#SBATCH --mail-user wuz@mpa-garching.mpg.de\n",
    "#-- wuz@mpa-garching.mpg.de\n",
    "#SBATCH --partition=p.24h\n",
    "#-- p.24h, p.test, p.gpu & p.gpu.ampere\n",
    "#SBATCH --mail-type=ALL\n",
    "#SBATCH --nodes=16\n",
    "#-- 2 at most?\n",
    "#SBATCH --ntasks-per-node=32\n",
    "#-- 40 at most\n",
    "#SBATCH --time={comp_time}\n",
    "#-- in format hh:mm:ss\n",
    "\n",
    "set -e\n",
    "SECONDS=0\n",
    "\n",
    "module purge\n",
    "module load intel/19.1.2\n",
    "module load impi/2019.8\n",
    "module load fftw-mpi/3.3.8\n",
    "module load hdf5-mpi/1.8.21\n",
    "module load ffmpeg/4.4\n",
    "module list\n",
    "\n",
    "echo {trial_new}\n",
    "cd $DP/{trial_new}/cloud\n",
    "\n",
    "srun ../../{executable} -i athinput_cloud.turb -t {comp_time_save}\n",
    "#-- !!TIME_LIMIT_RST!! should be ten minutes before the end, to generate a restart file\n",
    "\n",
    "echo \"Elapsed: $(($SECONDS / 3600))hrs $((($SECONDS / 60) % 60))min $(($SECONDS % 60))sec\"\n",
    "\n",
    "echo \"Boom!\"\n",
    "\n",
    "cd ~\n",
    "\"\"\"\n",
    "\n",
    "# write the file\n",
    "file_name = f\"{datapath}/js_cloud_24h.sh\" if server == '24h' else f\"{datapath}/js_cloud.sh\"\n",
    "with open(file_name, 'w') as file:\n",
    "    file.write(sh_content)\n",
    "\n",
    "# print the squeue command\n",
    "squeue_cmd = f\"\"\"\n",
    "sbatch {datapath}/js_cloud_24h.sh\n",
    "\"\"\"\n",
    "print(squeue_cmd)\n",
    "\n",
    "# print the squeue command\n",
    "squeue_cmd = f\"\"\"\n",
    "sbatch --dependency=afterok:XXX {datapath}/js_cloud_24h.sh\n",
    "\"\"\"\n",
    "print(squeue_cmd)"
   ]
  },
  {
   "cell_type": "code",
   "execution_count": 322,
   "id": "a15b7313-31ef-4f39-8ed2-5914b6b54720",
   "metadata": {},
   "outputs": [],
   "source": [
    "!mkdir -p /freya/ptmp/mpa/wuze/out/{date}"
   ]
  },
  {
   "cell_type": "code",
   "execution_count": 323,
   "id": "b3cdb201-acb4-4e06-8f9d-f138abf1a07b",
   "metadata": {},
   "outputs": [
    {
     "name": "stdout",
     "output_type": "stream",
     "text": [
      "\n",
      "\n",
      "\n",
      "\n",
      "\n",
      "\n",
      "\n",
      "\n",
      "\n",
      "\n",
      "\n",
      "\n",
      "\n",
      "\n",
      "\n",
      "\n",
      "\n",
      "\n",
      "\n",
      "\n",
      "\n",
      "\n",
      "\n",
      "\n",
      "\n",
      "\n",
      "\n",
      "\n",
      "\n",
      "\n",
      "\n",
      "\n",
      "\n",
      "\n",
      "\n",
      "\n",
      "\n",
      "\n",
      "\n",
      "\n",
      "\n",
      "\n",
      "\n",
      "\n",
      "\n",
      "\n",
      "\n",
      "\n",
      "\n",
      "\n",
      "\n"
     ]
    }
   ],
   "source": [
    "print('\\n' * 50)"
   ]
  },
  {
   "cell_type": "markdown",
   "id": "6a85e957-b96a-4b58-a6f4-7b24968b210f",
   "metadata": {},
   "source": [
    "# Time to 24h"
   ]
  },
  {
   "cell_type": "code",
   "execution_count": 324,
   "id": "611925c8-7959-4243-9097-254adf40092f",
   "metadata": {
    "jupyter": {
     "source_hidden": true
    }
   },
   "outputs": [],
   "source": [
    "# trials = '240620_0.3_160 240620_0.5_160 240620_0.5_16 240620_0.8_320 240620_0.6_320 240620_0.3_800 240620_0.5_800 240620_0.8_1600 240620_0.6_1600'.split(' ')\n",
    "\n",
    "# import os\n",
    "# for trial in trials:\n",
    "#     datapath = f'/freya/ptmp/mpa/wuze/data/{trial}'\n",
    "#     with open(f'{datapath}/js_cloud.sh', 'r') as file:\n",
    "#         file_content = file.read()\n",
    "    \n",
    "#     # remove old hst file\n",
    "#     try:\n",
    "#         os.remove(f'{datapath}/cloud/Turb.hst')\n",
    "#         print(f'Delted file in {datapath}')\n",
    "#     except OSError:\n",
    "#         pass\n",
    "#     \"\"\"Replace with 24h and new output\"\"\"\n",
    "#     new_content = file_content.replace('240620/', '240621/')\n",
    "#     new_content = new_content.replace('04:00:00', '23:00:00')\n",
    "#     new_content = new_content.replace('03:55:00', '22:55:00')\n",
    "\n",
    "#     # write as new file\n",
    "#     with open(f'{datapath}/js_cloud_24h.sh', 'w') as new_file:\n",
    "#         new_file.write(new_content)\n",
    "\n",
    "#     squeue_cmd = f\"\"\"\n",
    "#     sbatch {datapath}/js_cloud_24h.sh\n",
    "#     \"\"\"\n",
    "#     print(squeue_cmd)"
   ]
  },
  {
   "cell_type": "code",
   "execution_count": null,
   "id": "00bc2fae-e645-4b6a-9cc9-41af068d2e5a",
   "metadata": {},
   "outputs": [],
   "source": []
  },
  {
   "cell_type": "code",
   "execution_count": null,
   "id": "d01b61e2-921f-4897-a7de-9f330e1dc808",
   "metadata": {},
   "outputs": [],
   "source": []
  }
 ],
 "metadata": {
  "kernelspec": {
   "display_name": "Python 3 (ipykernel)",
   "language": "python",
   "name": "python3"
  },
  "language_info": {
   "codemirror_mode": {
    "name": "ipython",
    "version": 3
   },
   "file_extension": ".py",
   "mimetype": "text/x-python",
   "name": "python",
   "nbconvert_exporter": "python",
   "pygments_lexer": "ipython3",
   "version": "3.12.2"
  }
 },
 "nbformat": 4,
 "nbformat_minor": 5
}
