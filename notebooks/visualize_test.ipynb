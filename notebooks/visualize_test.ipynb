{
 "cells": [
  {
   "cell_type": "markdown",
   "id": "df0586d7-df89-4c11-971d-dd5561cddf80",
   "metadata": {},
   "source": [
    "# This Notebook\n",
    "\n",
    "Congregates all previous ones into modules, and acts as an all-in-one platform to produce and interpret data from the new $n_{\\rm ion}$ and $f_{\\rm esc}$ project."
   ]
  },
  {
   "cell_type": "code",
   "execution_count": 6,
   "id": "4518e4b4-0635-4405-8ef3-71e039e0e43e",
   "metadata": {},
   "outputs": [
    {
     "name": "stdout",
     "output_type": "stream",
     "text": [
      "The autoreload extension is already loaded. To reload it, use:\n",
      "  %reload_ext autoreload\n"
     ]
    }
   ],
   "source": [
    "datapath = '/freya/ptmp/mpa/wuze/data/240603_test'\n",
    "\n",
    "%matplotlib widget\n",
    "import matplotlib as mpl\n",
    "import matplotlib.pyplot as plt\n",
    "import numpy as np\n",
    "%matplotlib inline\n",
    "%load_ext autoreload\n",
    "%autoreload 2\n",
    "import pickle\n",
    "\n",
    "def plot_prettier(dpi=200, fontsize=10, usetex=False):\n",
    "    '''\n",
    "    Make plots look nicer compared to Matplotlib defaults\n",
    "    Parameters: \n",
    "        dpi - int, \"dots per inch\" - controls resolution of PNG images that are produced\n",
    "                by Matplotlib\n",
    "        fontsize - int, font size to use overall\n",
    "        usetex - bool, whether to use LaTeX to render fonds of axes labels \n",
    "                use False if you don't have LaTeX installed on your system\n",
    "    '''\n",
    "    plt.rcParams['figure.dpi']= dpi\n",
    "    plt.rc(\"savefig\", dpi=dpi)\n",
    "    plt.rc('font', size=fontsize)\n",
    "    plt.rc('xtick', direction='in') \n",
    "    plt.rc('ytick', direction='in')\n",
    "    plt.rc('xtick.major', pad=5) \n",
    "    plt.rc('xtick.minor', pad=5)\n",
    "    plt.rc('ytick.major', pad=5) \n",
    "    plt.rc('ytick.minor', pad=5)\n",
    "    plt.rc('lines', dotted_pattern = [2., 2.])\n",
    "    # if you don't have LaTeX installed on your laptop and this statement \n",
    "    # generates error, comment it out\n",
    "    plt.rc('text', usetex=usetex)\n",
    "\n",
    "mpl.rcParams.update(mpl.rcParamsDefault)\n",
    "plt.style.use('~/codes/def.mplstyle')\n",
    "plot_prettier(usetex=True)"
   ]
  },
  {
   "cell_type": "markdown",
   "id": "fd7990d9-3055-42ec-a8c0-d96f0807e26a",
   "metadata": {},
   "source": [
    "# 1D Shock Tube"
   ]
  },
  {
   "cell_type": "code",
   "execution_count": 7,
   "id": "76b5fc73-aadb-47a8-acf1-d36ffcd3ece3",
   "metadata": {},
   "outputs": [],
   "source": [
    "def plot_data(fname=f'{datapath}/1d_sod_tube/Sod.block0.out1.00025.tab', x='x1v', y='rho'):\n",
    "    data = np.loadtxt(fname).T\n",
    "    keys = list('i x1v rho press vel1 vel2 vel3'.split())\n",
    "    dataf = {keys[i]: data[i] for i in range(len(keys))}\n",
    "    \n",
    "    plt.plot(dataf[x], dataf[y])\n",
    "    plt.xlabel(x); plt.ylabel(y)\n",
    "    plt.show()"
   ]
  },
  {
   "cell_type": "code",
   "execution_count": 8,
   "id": "531bcf27-3d65-4941-a407-49698e3712f1",
   "metadata": {
    "collapsed": true,
    "jupyter": {
     "outputs_hidden": true
    },
    "scrolled": true
   },
   "outputs": [
    {
     "ename": "FileNotFoundError",
     "evalue": "/freya/ptmp/mpa/wuze/data/240603_test/1d_sod_tube/Sod.block0.out1.00025.tab not found.",
     "output_type": "error",
     "traceback": [
      "\u001b[0;31m---------------------------------------------------------------------------\u001b[0m",
      "\u001b[0;31mFileNotFoundError\u001b[0m                         Traceback (most recent call last)",
      "Cell \u001b[0;32mIn[8], line 1\u001b[0m\n\u001b[0;32m----> 1\u001b[0m \u001b[43mplot_data\u001b[49m\u001b[43m(\u001b[49m\u001b[43mfname\u001b[49m\u001b[38;5;241;43m=\u001b[39;49m\u001b[38;5;124;43mf\u001b[39;49m\u001b[38;5;124;43m'\u001b[39;49m\u001b[38;5;132;43;01m{\u001b[39;49;00m\u001b[43mdatapath\u001b[49m\u001b[38;5;132;43;01m}\u001b[39;49;00m\u001b[38;5;124;43m/1d_sod_tube/Sod.block0.out1.00025.tab\u001b[39;49m\u001b[38;5;124;43m'\u001b[39;49m\u001b[43m,\u001b[49m\u001b[43m \u001b[49m\u001b[43mx\u001b[49m\u001b[38;5;241;43m=\u001b[39;49m\u001b[38;5;124;43m'\u001b[39;49m\u001b[38;5;124;43mx1v\u001b[39;49m\u001b[38;5;124;43m'\u001b[39;49m\u001b[43m,\u001b[49m\u001b[43m \u001b[49m\u001b[43my\u001b[49m\u001b[38;5;241;43m=\u001b[39;49m\u001b[38;5;124;43m'\u001b[39;49m\u001b[38;5;124;43mrho\u001b[39;49m\u001b[38;5;124;43m'\u001b[39;49m\u001b[43m)\u001b[49m\n",
      "Cell \u001b[0;32mIn[7], line 2\u001b[0m, in \u001b[0;36mplot_data\u001b[0;34m(fname, x, y)\u001b[0m\n\u001b[1;32m      1\u001b[0m \u001b[38;5;28;01mdef\u001b[39;00m \u001b[38;5;21mplot_data\u001b[39m(fname\u001b[38;5;241m=\u001b[39m\u001b[38;5;124mf\u001b[39m\u001b[38;5;124m'\u001b[39m\u001b[38;5;132;01m{\u001b[39;00mdatapath\u001b[38;5;132;01m}\u001b[39;00m\u001b[38;5;124m/1d_sod_tube/Sod.block0.out1.00025.tab\u001b[39m\u001b[38;5;124m'\u001b[39m, x\u001b[38;5;241m=\u001b[39m\u001b[38;5;124m'\u001b[39m\u001b[38;5;124mx1v\u001b[39m\u001b[38;5;124m'\u001b[39m, y\u001b[38;5;241m=\u001b[39m\u001b[38;5;124m'\u001b[39m\u001b[38;5;124mrho\u001b[39m\u001b[38;5;124m'\u001b[39m):\n\u001b[0;32m----> 2\u001b[0m     data \u001b[38;5;241m=\u001b[39m \u001b[43mnp\u001b[49m\u001b[38;5;241;43m.\u001b[39;49m\u001b[43mloadtxt\u001b[49m\u001b[43m(\u001b[49m\u001b[43mfname\u001b[49m\u001b[43m)\u001b[49m\u001b[38;5;241m.\u001b[39mT\n\u001b[1;32m      3\u001b[0m     keys \u001b[38;5;241m=\u001b[39m \u001b[38;5;28mlist\u001b[39m(\u001b[38;5;124m'\u001b[39m\u001b[38;5;124mi x1v rho press vel1 vel2 vel3\u001b[39m\u001b[38;5;124m'\u001b[39m\u001b[38;5;241m.\u001b[39msplit())\n\u001b[1;32m      4\u001b[0m     dataf \u001b[38;5;241m=\u001b[39m {keys[i]: data[i] \u001b[38;5;28;01mfor\u001b[39;00m i \u001b[38;5;129;01min\u001b[39;00m \u001b[38;5;28mrange\u001b[39m(\u001b[38;5;28mlen\u001b[39m(keys))}\n",
      "File \u001b[0;32m~/miniconda3/lib/python3.12/site-packages/numpy/lib/npyio.py:1373\u001b[0m, in \u001b[0;36mloadtxt\u001b[0;34m(fname, dtype, comments, delimiter, converters, skiprows, usecols, unpack, ndmin, encoding, max_rows, quotechar, like)\u001b[0m\n\u001b[1;32m   1370\u001b[0m \u001b[38;5;28;01mif\u001b[39;00m \u001b[38;5;28misinstance\u001b[39m(delimiter, \u001b[38;5;28mbytes\u001b[39m):\n\u001b[1;32m   1371\u001b[0m     delimiter \u001b[38;5;241m=\u001b[39m delimiter\u001b[38;5;241m.\u001b[39mdecode(\u001b[38;5;124m'\u001b[39m\u001b[38;5;124mlatin1\u001b[39m\u001b[38;5;124m'\u001b[39m)\n\u001b[0;32m-> 1373\u001b[0m arr \u001b[38;5;241m=\u001b[39m \u001b[43m_read\u001b[49m\u001b[43m(\u001b[49m\u001b[43mfname\u001b[49m\u001b[43m,\u001b[49m\u001b[43m \u001b[49m\u001b[43mdtype\u001b[49m\u001b[38;5;241;43m=\u001b[39;49m\u001b[43mdtype\u001b[49m\u001b[43m,\u001b[49m\u001b[43m \u001b[49m\u001b[43mcomment\u001b[49m\u001b[38;5;241;43m=\u001b[39;49m\u001b[43mcomment\u001b[49m\u001b[43m,\u001b[49m\u001b[43m \u001b[49m\u001b[43mdelimiter\u001b[49m\u001b[38;5;241;43m=\u001b[39;49m\u001b[43mdelimiter\u001b[49m\u001b[43m,\u001b[49m\n\u001b[1;32m   1374\u001b[0m \u001b[43m            \u001b[49m\u001b[43mconverters\u001b[49m\u001b[38;5;241;43m=\u001b[39;49m\u001b[43mconverters\u001b[49m\u001b[43m,\u001b[49m\u001b[43m \u001b[49m\u001b[43mskiplines\u001b[49m\u001b[38;5;241;43m=\u001b[39;49m\u001b[43mskiprows\u001b[49m\u001b[43m,\u001b[49m\u001b[43m \u001b[49m\u001b[43musecols\u001b[49m\u001b[38;5;241;43m=\u001b[39;49m\u001b[43musecols\u001b[49m\u001b[43m,\u001b[49m\n\u001b[1;32m   1375\u001b[0m \u001b[43m            \u001b[49m\u001b[43munpack\u001b[49m\u001b[38;5;241;43m=\u001b[39;49m\u001b[43munpack\u001b[49m\u001b[43m,\u001b[49m\u001b[43m \u001b[49m\u001b[43mndmin\u001b[49m\u001b[38;5;241;43m=\u001b[39;49m\u001b[43mndmin\u001b[49m\u001b[43m,\u001b[49m\u001b[43m \u001b[49m\u001b[43mencoding\u001b[49m\u001b[38;5;241;43m=\u001b[39;49m\u001b[43mencoding\u001b[49m\u001b[43m,\u001b[49m\n\u001b[1;32m   1376\u001b[0m \u001b[43m            \u001b[49m\u001b[43mmax_rows\u001b[49m\u001b[38;5;241;43m=\u001b[39;49m\u001b[43mmax_rows\u001b[49m\u001b[43m,\u001b[49m\u001b[43m \u001b[49m\u001b[43mquote\u001b[49m\u001b[38;5;241;43m=\u001b[39;49m\u001b[43mquotechar\u001b[49m\u001b[43m)\u001b[49m\n\u001b[1;32m   1378\u001b[0m \u001b[38;5;28;01mreturn\u001b[39;00m arr\n",
      "File \u001b[0;32m~/miniconda3/lib/python3.12/site-packages/numpy/lib/npyio.py:992\u001b[0m, in \u001b[0;36m_read\u001b[0;34m(fname, delimiter, comment, quote, imaginary_unit, usecols, skiplines, max_rows, converters, ndmin, unpack, dtype, encoding)\u001b[0m\n\u001b[1;32m    990\u001b[0m     fname \u001b[38;5;241m=\u001b[39m os\u001b[38;5;241m.\u001b[39mfspath(fname)\n\u001b[1;32m    991\u001b[0m \u001b[38;5;28;01mif\u001b[39;00m \u001b[38;5;28misinstance\u001b[39m(fname, \u001b[38;5;28mstr\u001b[39m):\n\u001b[0;32m--> 992\u001b[0m     fh \u001b[38;5;241m=\u001b[39m \u001b[43mnp\u001b[49m\u001b[38;5;241;43m.\u001b[39;49m\u001b[43mlib\u001b[49m\u001b[38;5;241;43m.\u001b[39;49m\u001b[43m_datasource\u001b[49m\u001b[38;5;241;43m.\u001b[39;49m\u001b[43mopen\u001b[49m\u001b[43m(\u001b[49m\u001b[43mfname\u001b[49m\u001b[43m,\u001b[49m\u001b[43m \u001b[49m\u001b[38;5;124;43m'\u001b[39;49m\u001b[38;5;124;43mrt\u001b[39;49m\u001b[38;5;124;43m'\u001b[39;49m\u001b[43m,\u001b[49m\u001b[43m \u001b[49m\u001b[43mencoding\u001b[49m\u001b[38;5;241;43m=\u001b[39;49m\u001b[43mencoding\u001b[49m\u001b[43m)\u001b[49m\n\u001b[1;32m    993\u001b[0m     \u001b[38;5;28;01mif\u001b[39;00m encoding \u001b[38;5;129;01mis\u001b[39;00m \u001b[38;5;28;01mNone\u001b[39;00m:\n\u001b[1;32m    994\u001b[0m         encoding \u001b[38;5;241m=\u001b[39m \u001b[38;5;28mgetattr\u001b[39m(fh, \u001b[38;5;124m'\u001b[39m\u001b[38;5;124mencoding\u001b[39m\u001b[38;5;124m'\u001b[39m, \u001b[38;5;124m'\u001b[39m\u001b[38;5;124mlatin1\u001b[39m\u001b[38;5;124m'\u001b[39m)\n",
      "File \u001b[0;32m~/miniconda3/lib/python3.12/site-packages/numpy/lib/_datasource.py:193\u001b[0m, in \u001b[0;36mopen\u001b[0;34m(path, mode, destpath, encoding, newline)\u001b[0m\n\u001b[1;32m    156\u001b[0m \u001b[38;5;250m\u001b[39m\u001b[38;5;124;03m\"\"\"\u001b[39;00m\n\u001b[1;32m    157\u001b[0m \u001b[38;5;124;03mOpen `path` with `mode` and return the file object.\u001b[39;00m\n\u001b[1;32m    158\u001b[0m \n\u001b[0;32m   (...)\u001b[0m\n\u001b[1;32m    189\u001b[0m \n\u001b[1;32m    190\u001b[0m \u001b[38;5;124;03m\"\"\"\u001b[39;00m\n\u001b[1;32m    192\u001b[0m ds \u001b[38;5;241m=\u001b[39m DataSource(destpath)\n\u001b[0;32m--> 193\u001b[0m \u001b[38;5;28;01mreturn\u001b[39;00m \u001b[43mds\u001b[49m\u001b[38;5;241;43m.\u001b[39;49m\u001b[43mopen\u001b[49m\u001b[43m(\u001b[49m\u001b[43mpath\u001b[49m\u001b[43m,\u001b[49m\u001b[43m \u001b[49m\u001b[43mmode\u001b[49m\u001b[43m,\u001b[49m\u001b[43m \u001b[49m\u001b[43mencoding\u001b[49m\u001b[38;5;241;43m=\u001b[39;49m\u001b[43mencoding\u001b[49m\u001b[43m,\u001b[49m\u001b[43m \u001b[49m\u001b[43mnewline\u001b[49m\u001b[38;5;241;43m=\u001b[39;49m\u001b[43mnewline\u001b[49m\u001b[43m)\u001b[49m\n",
      "File \u001b[0;32m~/miniconda3/lib/python3.12/site-packages/numpy/lib/_datasource.py:533\u001b[0m, in \u001b[0;36mDataSource.open\u001b[0;34m(self, path, mode, encoding, newline)\u001b[0m\n\u001b[1;32m    530\u001b[0m     \u001b[38;5;28;01mreturn\u001b[39;00m _file_openers[ext](found, mode\u001b[38;5;241m=\u001b[39mmode,\n\u001b[1;32m    531\u001b[0m                               encoding\u001b[38;5;241m=\u001b[39mencoding, newline\u001b[38;5;241m=\u001b[39mnewline)\n\u001b[1;32m    532\u001b[0m \u001b[38;5;28;01melse\u001b[39;00m:\n\u001b[0;32m--> 533\u001b[0m     \u001b[38;5;28;01mraise\u001b[39;00m \u001b[38;5;167;01mFileNotFoundError\u001b[39;00m(\u001b[38;5;124mf\u001b[39m\u001b[38;5;124m\"\u001b[39m\u001b[38;5;132;01m{\u001b[39;00mpath\u001b[38;5;132;01m}\u001b[39;00m\u001b[38;5;124m not found.\u001b[39m\u001b[38;5;124m\"\u001b[39m)\n",
      "\u001b[0;31mFileNotFoundError\u001b[0m: /freya/ptmp/mpa/wuze/data/240603_test/1d_sod_tube/Sod.block0.out1.00025.tab not found."
     ]
    }
   ],
   "source": [
    "plot_data(fname=f'{datapath}/1d_sod_tube/Sod.block0.out1.00025.tab', x='x1v', y='rho')"
   ]
  },
  {
   "cell_type": "markdown",
   "id": "9988dfd2-5d79-42d5-982d-03172d40c966",
   "metadata": {},
   "source": [
    "# 2D Orszag Tang Vortex"
   ]
  },
  {
   "cell_type": "code",
   "execution_count": 9,
   "id": "10f9a17b-0813-4ed0-b824-d7b1bee81e10",
   "metadata": {},
   "outputs": [
    {
     "ename": "ModuleNotFoundError",
     "evalue": "No module named 'h5py'",
     "output_type": "error",
     "traceback": [
      "\u001b[0;31m---------------------------------------------------------------------------\u001b[0m",
      "\u001b[0;31mModuleNotFoundError\u001b[0m                       Traceback (most recent call last)",
      "Cell \u001b[0;32mIn[9], line 1\u001b[0m\n\u001b[0;32m----> 1\u001b[0m \u001b[38;5;28;01mimport\u001b[39;00m \u001b[38;5;21;01mh5py\u001b[39;00m\n",
      "\u001b[0;31mModuleNotFoundError\u001b[0m: No module named 'h5py'"
     ]
    }
   ],
   "source": [
    "import h5py"
   ]
  },
  {
   "cell_type": "code",
   "execution_count": null,
   "id": "11cd0fb0-9d5b-405b-998d-eacbd3004cad",
   "metadata": {},
   "outputs": [],
   "source": [
    "import sys\n",
    "import os\n",
    "sys.path.append(os.path.abspath('/Volumes/DATA/MP_multiphase_gas/athena/vis/python'))\n",
    "from athena_read import athdf"
   ]
  },
  {
   "cell_type": "code",
   "execution_count": null,
   "id": "4c0f0ab0-0c94-4f47-b7be-22008a545110",
   "metadata": {},
   "outputs": [],
   "source": [
    "def get_data2d(fname=f'{datapath}/2d_orszag_tang_vortex/OrszagTang.out2.00100.athdf',\n",
    "               key='rho', verbose=False):\n",
    "    data = athdf(filename=fname,)\n",
    "    if verbose: print(list(data.keys()))\n",
    "    return data[key][0] if len(data[key]) == 1 else data[key]\n",
    "    \n",
    "\n",
    "def plot_data2d(fname=f'{datapath}/2d_orszag_tang_vortex/OrszagTang.out2.00100.athdf',\n",
    "                key='rho'):\n",
    "    plt.imshow(get_data2d(key=key, verbose=False), interpolation='none')\n",
    "    plt.colorbar()\n",
    "    plt.title(key)\n",
    "    plt.show()"
   ]
  },
  {
   "cell_type": "code",
   "execution_count": null,
   "id": "93ad37d1-da1e-41bb-92b0-e8bdb773dc1a",
   "metadata": {},
   "outputs": [],
   "source": [
    "_ = get_data2d(verbose=True)"
   ]
  },
  {
   "cell_type": "code",
   "execution_count": null,
   "id": "c90e22e7-3925-4be6-89a9-d1c1216c9489",
   "metadata": {},
   "outputs": [],
   "source": [
    "plot_data2d(key='rho')"
   ]
  },
  {
   "cell_type": "code",
   "execution_count": null,
   "id": "2f1831c0-6a34-4173-bf0c-781b99dd3c4b",
   "metadata": {},
   "outputs": [],
   "source": [
    "vel_img = np.array([get_data2d(key='vel1', verbose=False),\n",
    "                    get_data2d(key='vel2', verbose=False),\n",
    "                    get_data2d(key='vel3', verbose=False)])\n",
    "vel_img = np.swapaxes(vel_img, 0, 2)\n",
    "\n",
    "fig, ax = plt.subplots()\n",
    "cax = ax.imshow(vel_img, interpolation='none')\n",
    "# cbar = fig.colorbar(cax, ax=ax, orientation='vertical')\n",
    "plt.title('velocity field')\n",
    "plt.show()"
   ]
  },
  {
   "cell_type": "markdown",
   "id": "8c95cb3b-cfdc-408f-b0f5-846e27d98214",
   "metadata": {},
   "source": [
    "# Turbulence simulations"
   ]
  },
  {
   "cell_type": "markdown",
   "id": "da6dd59a-d735-46c5-bcd0-8a10670d6fc2",
   "metadata": {},
   "source": [
    "## Primary quantities"
   ]
  },
  {
   "cell_type": "code",
   "execution_count": null,
   "id": "a9e9671a-0d00-4f41-9774-7b78c1de95e5",
   "metadata": {},
   "outputs": [],
   "source": [
    "datapath = '/Volumes/DATA/MP_multiphase_gas'\n",
    "fname = f'{datapath}/turb_240528/Turb.hst'\n",
    "\n",
    "with open(fname, 'r') as file: keys_raw = file.readlines()[1]\n",
    "keys = [a.split('=')[1] for a in keys_raw.split()[1:]]\n",
    "data = np.loadtxt(fname).T\n",
    "dataf = {keys[i]: data[i] for i in range(len(keys))}\n",
    "print(keys)\n",
    "\n",
    "time = dataf['time']\n",
    "e_k = dataf['1-KE'] + dataf['2-KE'] + dataf['3-KE']\n",
    "\n",
    "# plot the time evolution\n",
    "plt.subplots(figsize=(4, 3))\n",
    "plt.plot(time, e_k)\n",
    "plt.xlabel('time'); plt.ylabel('Kinetic Energy')\n",
    "plt.show()"
   ]
  },
  {
   "cell_type": "code",
   "execution_count": null,
   "id": "34636cc0-b8a8-4a90-89fc-d812dbf36ae6",
   "metadata": {},
   "outputs": [],
   "source": [
    "v_turb = np.sqrt(2 * e_k / dataf['mass'])\n",
    "plt.subplots(figsize=(4, 3))\n",
    "plt.plot(time, v_turb)\n",
    "plt.axhline(1.5, alpha=0.5, lw=1, ls='--')\n",
    "plt.xlabel('time'); plt.ylabel('Turbulence Velocity')\n",
    "plt.show()"
   ]
  },
  {
   "cell_type": "markdown",
   "id": "2245e47a-d0f2-4a31-bc64-368d93e0f2c1",
   "metadata": {},
   "source": [
    "## Conserved quantities"
   ]
  },
  {
   "cell_type": "code",
   "execution_count": null,
   "id": "61fa53b8-613d-4c2c-8e51-7f40c39c7548",
   "metadata": {},
   "outputs": [],
   "source": [
    "density = get_data2d(fname=f'{datapath}/turb_240528/Turb.out3.00004.athdf', verbose=True, key='dens')\n",
    "plt.imshow(density[0], interpolation='none')\n",
    "plt.title('Density')\n",
    "plt.colorbar()\n",
    "plt.show()"
   ]
  },
  {
   "cell_type": "code",
   "execution_count": null,
   "id": "798886da-969f-4b47-a67f-b5278b4a001d",
   "metadata": {},
   "outputs": [],
   "source": [
    "# average density of the box\n",
    "rho = np.mean(density)\n",
    "rho"
   ]
  },
  {
   "cell_type": "markdown",
   "id": "a78d404f-d880-4031-ada4-3743252fac55",
   "metadata": {},
   "source": [
    "# Calculate Mach number"
   ]
  },
  {
   "cell_type": "code",
   "execution_count": null,
   "id": "efbec2f8-d000-45df-8665-f7ca89da975d",
   "metadata": {},
   "outputs": [],
   "source": [
    "\"\"\"Define constants\"\"\"\n",
    "\n",
    "class unit():\n",
    "    def __init__(self):        \n",
    "        # length, time, and mass constants\n",
    "        self.CONST_pc  = 3.086e18\n",
    "        self.CONST_yr  = 3.154e7\n",
    "        self.CONST_amu = 1.66053886e-24\n",
    "        self.CONST_kB  = 1.3806505e-16\n",
    "        self.unit_length = self.CONST_pc*1e3  # 1 kpc\n",
    "        self.unit_time   = self.CONST_yr*1e6  # 1 Myr\n",
    "        self.unit_density = self.CONST_amu    # 1 mp/cm-3\n",
    "        self.unit_velocity = self.unit_length/self.unit_time\n",
    "        self.KELVIN = self.unit_velocity*self.unit_velocity*self.CONST_amu/self.CONST_kB\n",
    "        self.unit_q = (self.unit_density * (self.unit_velocity**3))/self.unit_length\n",
    "        self.g = 5/3\n",
    "        \n",
    "        # avg atomic mass\n",
    "        Xsol = 1.0\n",
    "        Zsol = 1.0\n",
    "        \n",
    "        X = Xsol * 0.7381\n",
    "        Z = Zsol * 0.0134\n",
    "        Y = 1 - X - Z\n",
    "        \n",
    "        self.mu  = 1.0/(2.*X+ 3.*(1.-X-Z)/4.+ Z/2.);\n",
    "        self.mue = 2.0/(1.0+X);\n",
    "        self.muH = 1.0/X;\n",
    "        self.mH = 1.0\n",
    "\n",
    "        # alpha values for different sims\n",
    "        self.alpha_hyd = 2 ** (1 / 3)  # 1.26 # 1.383\n",
    "        self.alpha_mhd = (2 * 4.2 / 0.77) ** (1 / 3)\n",
    "\n",
    "u = unit()\n",
    "u.mu"
   ]
  },
  {
   "cell_type": "code",
   "execution_count": null,
   "id": "a5804372-89f8-4be5-a4e1-a8cd4c5897d5",
   "metadata": {},
   "outputs": [],
   "source": [
    "def calc_T(P, rho):\n",
    "    \"\"\"\n",
    "    Calculates temeprature from constants\n",
    "    ----------\n",
    "    P: gas pressure\n",
    "    rho: gas density\n",
    "    \"\"\"\n",
    "    T = P/rho * u.KELVIN * u.mu\n",
    "    return T\n",
    "\n",
    "def calc_cs(T):\n",
    "    \"\"\"\n",
    "    Calculates sound speed\n",
    "    ----------\n",
    "    T: temperature\n",
    "    mu: avg atomic number of the gas\n",
    "    \"\"\"\n",
    "    # convert to cm\n",
    "    m_to_cm = 100\n",
    "\n",
    "    # return np.sqrt(g.g*R*T_hot/M) * m_to_cm/g.unit_velocity\n",
    "    # return np.sqrt(u.g * u.CONST_kB / (u.mu * u.CONST_amu) * T) * m_to_cm / u.unit_velocity\n",
    "    return np.sqrt(u.g * u.CONST_kB / (u.mu * u.CONST_amu) * T) / u.unit_velocity\n",
    "\n",
    "def calc_mach(v_turb, P, rho):\n",
    "    \"\"\"\n",
    "    Calculates the Mach number\n",
    "    ----------\n",
    "    v_turb: turbulence velocity\n",
    "    P, rho\n",
    "    \"\"\"\n",
    "    T = calc_T(P, rho)\n",
    "    cs = calc_cs(T)\n",
    "    print(f'cs = {cs}')\n",
    "    return v_turb / cs\n",
    "\n",
    "# def calc_dedt_mach(mach, P, rho, L):\n",
    "#     \"\"\"\n",
    "#     Returns required dedt for a given Mach number, density, temperature, and box size\n",
    "#     \"\"\"\n",
    "#     # calculate sound speed first\n",
    "#     T = calc_T(P, rho)\n",
    "#     cs_new = calc_cs(T)\n",
    "#     print(f\"cs_hot: {cs_new}\")\n",
    "\n",
    "#     dedt_req = rho * (cs_new**3) * (L**2) * (mach**3) / (u.alpha_hyd**3)\n",
    "#     return dedt_req\n",
    "\n",
    "\n",
    "def calc_dedt_mach(v_turb, rho, L):\n",
    "    \"\"\"\n",
    "    Returns required dedt for a given Mach number, density, temperature, and box size\n",
    "\n",
    "    An updated version of the function that uses turbulent velocity directly\n",
    "    Does NOT calculate sound speed, so no pressure required\n",
    "    \"\"\"\n",
    "    \n",
    "    dedt_req = rho * v_turb**3 * (L**2) / (u.alpha_hyd**3)\n",
    "    return dedt_req"
   ]
  },
  {
   "cell_type": "code",
   "execution_count": null,
   "id": "305f77e1-301c-4ab3-b3ed-56f1112f5036",
   "metadata": {
    "jupyter": {
     "source_hidden": true
    }
   },
   "outputs": [],
   "source": [
    "# calculate t_eddie\n",
    "t_eddie = 1/v_turb\n",
    "# approximate t_corr\n",
    "t_corr = np.mean(t_eddie)\n",
    "print(t_corr)\n",
    "\n",
    "# apprximate dtdrive = 0.01 * t_eddie\n",
    "dtdrive = 0.01 * np.mean(t_eddie)\n",
    "print(dtdrive)"
   ]
  },
  {
   "cell_type": "markdown",
   "id": "faabc02c-a3b5-4fb6-8130-5ea12d88714e",
   "metadata": {
    "jp-MarkdownHeadingCollapsed": true
   },
   "source": [
    "## Predict dedt"
   ]
  },
  {
   "cell_type": "code",
   "execution_count": null,
   "id": "e19d09b8-1e9a-40c5-bdb3-78c2f1dbf617",
   "metadata": {},
   "outputs": [],
   "source": [
    "# calculate debt needed to achieve 0.5 mach\n",
    "v_turb_end = 2\n",
    "calc_dedt_mach(v_turb_end,\n",
    "               rho=rho,\n",
    "               L=1)  # box size = x1max - x1min"
   ]
  },
  {
   "cell_type": "code",
   "execution_count": null,
   "id": "4b11c88c-bfc7-416c-85c5-13a8d2893949",
   "metadata": {},
   "outputs": [],
   "source": [
    "\"\"\"Check for convergence\"\"\"\n",
    "\n",
    "datapath = '/Volumes/DATA/MP_multiphase_gas'\n",
    "fname = f'{datapath}/turb_240528/Turb.hst'\n",
    "\n",
    "with open(fname, 'r') as file: keys_raw = file.readlines()[1]\n",
    "keys = [a.split('=')[1] for a in keys_raw.split()[1:]]\n",
    "data = np.loadtxt(fname).T\n",
    "dataf = {keys[i]: data[i] for i in range(len(keys))}\n",
    "print(keys)\n",
    "\n",
    "time = dataf['time']\n",
    "e_k = dataf['1-KE'] + dataf['2-KE'] + dataf['3-KE']\n",
    "\n",
    "v_turb = np.sqrt(2 * e_k / dataf['mass'])\n",
    "plt.subplots(figsize=(4, 3))\n",
    "plt.plot(time, v_turb)\n",
    "plt.axhline(v_turb_end, alpha=0.5, lw=1, ls='--')\n",
    "plt.xlabel('time'); plt.ylabel('Turbulence Velocity')\n",
    "plt.show()"
   ]
  },
  {
   "cell_type": "markdown",
   "id": "543c67dc-f50e-497b-84a1-19f01e32e878",
   "metadata": {},
   "source": [
    "# Turbulent box analysis"
   ]
  },
  {
   "cell_type": "code",
   "execution_count": null,
   "id": "e7593d5d-6730-496a-a482-890fb7fc4e37",
   "metadata": {},
   "outputs": [],
   "source": [
    "_ = get_data2d(fname=f'{datapath}/turb_240529/turb/Turb.out2.00100.athdf', verbose=True, key='press')"
   ]
  },
  {
   "cell_type": "markdown",
   "id": "9d261801-4825-45d9-be93-07c31ce0cc81",
   "metadata": {},
   "source": [
    "## Turbulence"
   ]
  },
  {
   "cell_type": "code",
   "execution_count": null,
   "id": "aad61949-a7e3-431d-a68e-ad2f3924946b",
   "metadata": {},
   "outputs": [],
   "source": [
    "\"\"\"Check for convergence\"\"\"\n",
    "\n",
    "datapath = '/Volumes/DATA/MP_multiphase_gas'\n",
    "fname = f'{datapath}/turb_240529/turb/Turb.hst'\n",
    "\n",
    "with open(fname, 'r') as file: keys_raw = file.readlines()[1]\n",
    "keys = [a.split('=')[1] for a in keys_raw.split()[1:]]\n",
    "data = np.loadtxt(fname).T\n",
    "dataf = {keys[i]: data[i] for i in range(len(keys))}\n",
    "print(keys)\n",
    "\n",
    "time = dataf['time']\n",
    "e_k = dataf['1-KE'] + dataf['2-KE'] + dataf['3-KE']\n",
    "\n",
    "v_turb = np.sqrt(2 * e_k / dataf['mass'])\n",
    "plt.subplots(figsize=(4, 3))\n",
    "plt.plot(time, v_turb)\n",
    "# plt.axhline(v_turb_end, alpha=0.5, lw=1, ls='--')\n",
    "plt.xlabel('time'); plt.ylabel('Turbulence Velocity')\n",
    "plt.show()"
   ]
  },
  {
   "cell_type": "code",
   "execution_count": null,
   "id": "2a036f8d-5021-4fc7-82f5-e2c9fd585393",
   "metadata": {
    "jupyter": {
     "source_hidden": true
    }
   },
   "outputs": [],
   "source": [
    "# def visualize_3d(fname=f'{datapath}/turb_240528/Turb.out3.00004.athdf', verbose=True, key='dens'):\n",
    "fname=f'{datapath}/turb_240529/cloud/Turb.out2.00101.athdf'; verbose=False\n",
    "%matplotlib widget\n",
    "from matplotlib.widgets import Button, Slider\n",
    "\n",
    "# plot density\n",
    "z_range = [0, 31]\n",
    "z_init = 10\n",
    "mom_comp = [get_data2d(fname=fname, verbose=verbose, key='vel1') * 5,\n",
    "            get_data2d(fname=fname, verbose=verbose, key='vel2') * 5,\n",
    "            get_data2d(fname=fname, verbose=verbose, key='vel3') * 5]\n",
    "mom_comp = np.array(mom_comp)\n",
    "\n",
    "density = np.swapaxes(mom_comp, 0, 3)\n",
    "fig, ax = plt.subplots(figsize=(5, 5), dpi=100)\n",
    "img = plt.imshow(density[z_init], interpolation='none')\n",
    "# plt.title('Density')\n",
    "plt.colorbar()\n",
    "\n",
    "plt.ioff()\n",
    "\n",
    "# Make a horizontal slider to control the z slice\n",
    "ax_slider = fig.add_axes([0.25, 0.90, 0.5, 0.05])\n",
    "redshift_slider = Slider(\n",
    "    ax=ax_slider,\n",
    "    label=r'z value',\n",
    "    valmin=z_range[0],\n",
    "    valmax=z_range[1],\n",
    "    valinit=z_init,\n",
    "    valstep=1.\n",
    ")\n",
    "\n",
    "# The function to be called anytime a slider's value changes\n",
    "def update(z):\n",
    "    # update to redshift\n",
    "    img.set_data(density[int(z)])\n",
    "    fig.canvas.draw_idle()\n",
    "redshift_slider.on_changed(update)  # register the update function with each slider\n",
    "\n",
    "# Create a button to reset the sliders to initial values.\n",
    "resetax = fig.add_axes([0.8, 0.9, 0.1, 0.04])\n",
    "button = Button(resetax, 'Reset', hovercolor='0.975')\n",
    "def reset(event):\n",
    "    redshift_slider.reset()\n",
    "button.on_clicked(reset)"
   ]
  },
  {
   "cell_type": "markdown",
   "id": "b31d9bb7-a6ca-4e01-8d88-43ab42dff0d3",
   "metadata": {},
   "source": [
    "## Mach number"
   ]
  },
  {
   "cell_type": "code",
   "execution_count": null,
   "id": "b95f30b6-1e19-4bab-8dd9-466e15aaddb0",
   "metadata": {},
   "outputs": [],
   "source": [
    "# change back to inline plotting\n",
    "%matplotlib inline\n",
    "import matplotlib as mpl\n",
    "import matplotlib.pyplot as plt\n",
    "mpl.rcParams.update(mpl.rcParamsDefault)\n",
    "plt.style.use('/Users/jasonwu/Programs/codes/def.mplstyle')\n",
    "plot_prettier(usetex=True)"
   ]
  },
  {
   "cell_type": "code",
   "execution_count": null,
   "id": "1d4a43f9-77e6-49ab-a9ce-f7099c3c30ba",
   "metadata": {},
   "outputs": [],
   "source": [
    "datapath = '/Volumes/DATA/MP_multiphase_gas'\n",
    "fname = f'{datapath}/turb_240531_2/turb/Turb.hst'\n",
    "\n",
    "# calculate v_turb\n",
    "with open(fname, 'r') as file: keys_raw = file.readlines()[1]\n",
    "keys = [a.split('=')[1] for a in keys_raw.split()[1:]]\n",
    "data = np.loadtxt(fname).T\n",
    "dataf = {keys[i]: data[i] for i in range(len(keys))}\n",
    "print(keys)\n",
    "time = dataf['time']\n",
    "e_k = dataf['1-KE'] + dataf['2-KE'] + dataf['3-KE']\n",
    "v_turb = np.sqrt(2 * e_k / dataf['mass'])\n",
    "\n",
    "# calculate mach number\n",
    "fname=f'{datapath}/turb_240531_2/turb/Turb.out2.00100.athdf'\n",
    "rho = get_data2d(fname=fname, verbose=False, key='rho')\n",
    "press = get_data2d(fname=fname, verbose=False, key='press')\n",
    "T_scale = 4e6\n",
    "mach = v_turb / calc_cs(T_scale)\n",
    "\n",
    "# mach number from the turb.hst file\n",
    "mach_sim = v_turb / dataf['c_s_sum'] * 32**3\n",
    "\n",
    "plt.subplots(figsize=(4, 3))\n",
    "plt.plot(time, mach, label='Calculated')\n",
    "plt.plot(time, mach_sim, label='hst file')\n",
    "plt.xlabel('time'); plt.ylabel('Mach number')\n",
    "plt.legend()\n",
    "plt.show()"
   ]
  },
  {
   "cell_type": "markdown",
   "id": "8cfa0f11-7d2b-4851-a49f-15de9a3b4f33",
   "metadata": {},
   "source": [
    "## Temperature"
   ]
  },
  {
   "cell_type": "markdown",
   "id": "d6cb2699-c65f-43cf-bfcd-3e077d75a1fe",
   "metadata": {},
   "source": [
    "### Spatial visualizations"
   ]
  },
  {
   "cell_type": "code",
   "execution_count": null,
   "id": "b118e077-0d9d-4093-b1a8-682b20b54179",
   "metadata": {},
   "outputs": [],
   "source": [
    "# def visualize_3d(fname=f'{datapath}/turb_240528/Turb.out3.00004.athdf', verbose=True, key='dens'):\n",
    "fname=f'{datapath}/turb_240531_2/cloud/Turb.out2.00151.athdf'; verbose=True\n",
    "%matplotlib widget\n",
    "from matplotlib.widgets import Button, Slider\n",
    "\n",
    "# plot density\n",
    "z_range = [0, 31]\n",
    "z_init = 15\n",
    "rho = get_data2d(fname=fname, verbose=verbose, key='rho')\n",
    "press = get_data2d(fname=fname, verbose=verbose, key='press')\n",
    "temperature = calc_T(press, rho)\n",
    "fig, ax = plt.subplots(figsize=(5, 5), dpi=100)\n",
    "img = plt.imshow(temperature[z_init], interpolation='none', norm='log', vmin=400, vmax=100000000)\n",
    "# plt.title('Density')\n",
    "plt.colorbar()\n",
    "\n",
    "plt.ioff()\n",
    "\n",
    "# Make a horizontal slider to control the z slice\n",
    "ax_slider = fig.add_axes([0.25, 0.90, 0.5, 0.05])\n",
    "redshift_slider = Slider(\n",
    "    ax=ax_slider,\n",
    "    label=r'z value',\n",
    "    valmin=z_range[0],\n",
    "    valmax=z_range[1],\n",
    "    valinit=z_init,\n",
    "    valstep=1.\n",
    ")\n",
    "\n",
    "# The function to be called anytime a slider's value changes\n",
    "def update(z):\n",
    "    # update to redshift\n",
    "    img.set_data(temperature[int(z)])\n",
    "    fig.canvas.draw_idle()\n",
    "redshift_slider.on_changed(update)  # register the update function with each slider\n",
    "\n",
    "# Create a button to reset the sliders to initial values.\n",
    "resetax = fig.add_axes([0.8, 0.9, 0.1, 0.04])\n",
    "button = Button(resetax, 'Reset', hovercolor='0.975')\n",
    "def reset(event):\n",
    "    redshift_slider.reset()\n",
    "button.on_clicked(reset)"
   ]
  },
  {
   "cell_type": "code",
   "execution_count": null,
   "id": "94bcd2d8-1271-4628-9650-9a574280b984",
   "metadata": {},
   "outputs": [],
   "source": [
    "# def visualize_3d(fname=f'{datapath}/turb_240528/Turb.out3.00004.athdf', verbose=True, key='dens'):\n",
    "fname=f'{datapath}/turb_240531_2/cloud/Turb.out2.00101.athdf'; verbose=True\n",
    "%matplotlib widget\n",
    "from matplotlib.widgets import Button, Slider\n",
    "\n",
    "# plot density\n",
    "z_range = [0, 31]\n",
    "z_init = 15\n",
    "rho = get_data2d(fname=fname, verbose=verbose, key='rho')\n",
    "press = get_data2d(fname=fname, verbose=verbose, key='press')\n",
    "temperature = calc_T(press, rho)\n",
    "fig, ax = plt.subplots(figsize=(5, 5), dpi=100)\n",
    "img = plt.imshow(temperature[z_init], interpolation='none', norm='log', vmin=400, vmax=100000000)\n",
    "# plt.title('Density')\n",
    "plt.colorbar()\n",
    "\n",
    "plt.ioff()\n",
    "\n",
    "# Make a horizontal slider to control the z slice\n",
    "ax_slider = fig.add_axes([0.25, 0.90, 0.5, 0.05])\n",
    "redshift_slider = Slider(\n",
    "    ax=ax_slider,\n",
    "    label=r'z value',\n",
    "    valmin=z_range[0],\n",
    "    valmax=z_range[1],\n",
    "    valinit=z_init,\n",
    "    valstep=1.\n",
    ")\n",
    "\n",
    "# The function to be called anytime a slider's value changes\n",
    "def update(z):\n",
    "    # update to redshift\n",
    "    img.set_data(temperature[int(z)])\n",
    "    fig.canvas.draw_idle()\n",
    "redshift_slider.on_changed(update)  # register the update function with each slider\n",
    "\n",
    "# Create a button to reset the sliders to initial values.\n",
    "resetax = fig.add_axes([0.8, 0.9, 0.1, 0.04])\n",
    "button = Button(resetax, 'Reset', hovercolor='0.975')\n",
    "def reset(event):\n",
    "    redshift_slider.reset()\n",
    "button.on_clicked(reset)"
   ]
  },
  {
   "cell_type": "code",
   "execution_count": null,
   "id": "3c100236-ff10-4454-9baf-4f11b194c345",
   "metadata": {},
   "outputs": [],
   "source": [
    "# change back to inline plotting\n",
    "%matplotlib inline\n",
    "import matplotlib as mpl\n",
    "import matplotlib.pyplot as plt\n",
    "mpl.rcParams.update(mpl.rcParamsDefault)\n",
    "plt.style.use('/Users/jasonwu/Programs/codes/def.mplstyle')\n",
    "plot_prettier(usetex=True)"
   ]
  },
  {
   "cell_type": "markdown",
   "id": "d4bbb09b-f88e-497d-8497-be3cf2d69e81",
   "metadata": {},
   "source": [
    "### Hist"
   ]
  },
  {
   "cell_type": "code",
   "execution_count": null,
   "id": "9a2e2c48-cc2e-4713-9232-bfcb01386293",
   "metadata": {},
   "outputs": [],
   "source": [
    "\"\"\"Define constants for the run\"\"\"\n",
    "\n",
    "T_scale = 4e6\n",
    "cloud_chi = 5000; T_cold = T_scale / 5000\n",
    "\n",
    "T_cut = 2e6"
   ]
  },
  {
   "cell_type": "code",
   "execution_count": null,
   "id": "7a2b4bf9-298e-42a5-bb41-19c9ed69b1e3",
   "metadata": {},
   "outputs": [],
   "source": [
    "fname=f'{datapath}/turb_240531_2/turb/Turb.out2.00100.athdf'\n",
    "# plot density\n",
    "z_range = [0, 31]\n",
    "z_init = 15\n",
    "rho = get_data2d(fname=fname, verbose=False, key='rho')\n",
    "press = get_data2d(fname=fname, verbose=False, key='press')\n",
    "temperature = calc_T(press, rho)\n",
    "\n",
    "plt.subplots(figsize=(4, 3))\n",
    "plt.hist(temperature.flatten(), alpha=0.5,\n",
    "         bins=np.logspace(np.log10(800), np.log10(2e7), 100))\n",
    "plt.xscale('log')\n",
    "plt.yscale('log')\n",
    "plt.xlabel('$T$ [K]')\n",
    "plt.axvline(T_scale, color='red', lw=1, ls='--')\n",
    "plt.axvline(T_cold, color='blue', lw=1, ls='--')\n",
    "plt.text(1e4, 1000, 'Before cloud')\n",
    "plt.show()"
   ]
  },
  {
   "cell_type": "code",
   "execution_count": null,
   "id": "2bb499d7-0066-4daa-b57f-15727d0e9fa4",
   "metadata": {},
   "outputs": [],
   "source": [
    "fname=f'{datapath}/turb_240531_2/cloud/Turb.out2.00101.athdf'; verbose=True\n",
    "# plot density\n",
    "rho = get_data2d(fname=fname, verbose=False, key='rho')\n",
    "press = get_data2d(fname=fname, verbose=False, key='press')\n",
    "temperature = calc_T(press, rho)\n",
    "\n",
    "plt.subplots(figsize=(4, 3))\n",
    "plt.hist(temperature.flatten(), alpha=0.5,\n",
    "         bins=np.logspace(np.log10(800), np.log10(2e7), 100))\n",
    "plt.xscale('log')\n",
    "plt.yscale('log')\n",
    "plt.xlabel('$T$ [K]')\n",
    "plt.axvline(T_scale, color='red', lw=1, ls='--', label='hot')\n",
    "plt.axvline(T_cut, color='orange', lw=1, ls='-.', label='cooling lim')\n",
    "plt.axvline(4e4, color='green', lw=1, ls='--', label='warm')\n",
    "plt.axvline(T_cold, color='blue', lw=1, ls='--', label='cold')\n",
    "plt.legend()\n",
    "plt.show()"
   ]
  },
  {
   "cell_type": "code",
   "execution_count": null,
   "id": "94789eb2-0d46-4356-81ec-5d3e0d84ec6f",
   "metadata": {},
   "outputs": [],
   "source": [
    "fname=f'{datapath}/turb_240531_2/cloud/Turb.out2.00200.athdf'; verbose=True\n",
    "# plot density\n",
    "rho = get_data2d(fname=fname, verbose=False, key='rho')\n",
    "press = get_data2d(fname=fname, verbose=False, key='press')\n",
    "temperature = calc_T(press, rho)\n",
    "\n",
    "plt.subplots(figsize=(4, 3))\n",
    "plt.hist(temperature.flatten(), alpha=0.5,\n",
    "         bins=np.logspace(np.log10(800), np.log10(2e7), 100))\n",
    "plt.xscale('log')\n",
    "plt.yscale('log')\n",
    "plt.xlabel('$T$ [K]')\n",
    "plt.axvline(T_scale, color='red', lw=1, ls='--', label='hot')\n",
    "plt.axvline(T_cut, color='orange', lw=1, ls='-.', label='cooling lim')\n",
    "plt.axvline(4e4, color='green', lw=1, ls='--', label='warm')\n",
    "plt.axvline(T_cold, color='blue', lw=1, ls='--', label='cold')\n",
    "plt.legend()\n",
    "plt.show()"
   ]
  },
  {
   "cell_type": "markdown",
   "id": "dd1b349f-75d8-4fb4-b719-f49b7fba1ae5",
   "metadata": {},
   "source": [
    "### Evolution"
   ]
  },
  {
   "cell_type": "code",
   "execution_count": null,
   "id": "5901a465-ddfb-492b-af64-908a669c5c5a",
   "metadata": {},
   "outputs": [],
   "source": [
    "import plotly.graph_objects as go\n",
    "import plotly.express as px\n",
    "\n",
    "# grab the temperature\n",
    "fname=f'{datapath}/turb_240531_2/cloud/Turb.out2.00101.athdf'; verbose=True\n",
    "# plot density\n",
    "z_range = [0, 31]\n",
    "z_init = 15\n",
    "rho = get_data2d(fname=fname, verbose=verbose, key='rho')\n",
    "press = get_data2d(fname=fname, verbose=verbose, key='press')\n",
    "temperature = calc_T(press, rho)\n",
    "\n",
    "# visualize\n",
    "X, Y, Z = np.mgrid[-16:15:32j, -16:15:32j, -16:15:32j]\n",
    "fig = go.Figure(data=go.Volume(\n",
    "    x=X.flatten(),\n",
    "    y=Y.flatten(),\n",
    "    z=Z.flatten(),\n",
    "    value=np.log10(temperature.flatten()),\n",
    "    opacity=0.1,  # needs to be small to see through all surfaces\n",
    "    surface_count=1,  # Display only one surface\n",
    "    isomin=np.log10(T_cold),  # Minimum temperature for isosurface\n",
    "    isomax=np.log10(T_cold),  # Maximum temperature for isosurface\n",
    "    colorscale=[[0.0, \"rgb(0,0,0)\"], [1.0, \"rgb(0,0,0)\"]],#'RdBu_r',\n",
    "    colorbar=dict(title='Temperature'),\n",
    "    # cmin=1,  # Set the minimum color scale value\n",
    "    # cmax=7  # Set the maximum color scale value (adjust as needed)\n",
    "), layout={'height': 800})\n",
    "fig.show()"
   ]
  },
  {
   "cell_type": "code",
   "execution_count": null,
   "id": "a1fef5f0-ceaa-4119-8eea-93ecdf4c9a2d",
   "metadata": {
    "jupyter": {
     "source_hidden": true
    }
   },
   "outputs": [],
   "source": [
    "# import plotly.graph_objects as go\n",
    "# import numpy as np\n",
    "\n",
    "# # construct a list of files\n",
    "# file_list = []\n",
    "# for fnum in np.arange(101, 201, 1).astype(int):\n",
    "#     fname = f'{datapath}/turb_240531_2/cloud/Turb.out2.00{fnum:.0f}.athdf'\n",
    "#     file_list.append(fname)\n",
    "\n",
    "# # Generate grid for plotting\n",
    "# X, Y, Z = np.mgrid[-16:15:32j, -16:15:32j, -16:15:32j]\n",
    "\n",
    "# # Create initial figure\n",
    "# fig = go.Figure(layout={'height': 800})\n",
    "\n",
    "# # Initialize frames list\n",
    "# frames = []\n",
    "\n",
    "# # Loop over filenames to create frames\n",
    "# for fname in file_list:\n",
    "#     rho = get_data2d(fname=fname, verbose=False, key='rho')\n",
    "#     press = get_data2d(fname=fname, verbose=False, key='press')\n",
    "#     temperature = calc_T(press, rho)\n",
    "    \n",
    "#     frames.append(go.Frame(\n",
    "#         data=[go.Volume(\n",
    "#             x=X.flatten(),\n",
    "#             y=Y.flatten(),\n",
    "#             z=Z.flatten(),\n",
    "#             value=np.log10(temperature.flatten()),\n",
    "#             opacity=0.1,  # needs to be small to see through all surfaces\n",
    "#             surface_count=1,  # Display only one surface\n",
    "#             isomin=np.log10(T_cold),  # Minimum temperature for isosurface\n",
    "#             isomax=np.log10(T_cold),  # Maximum temperature for isosurface\n",
    "#             colorscale=[[0.0, \"rgb(0,0,0)\"], [1.0, \"rgb(0,0,0)\"]],#'RdBu_r',\n",
    "#             colorbar=dict(title='Temperature'),\n",
    "#             cmin=2,  # Set the minimum color scale value\n",
    "#             cmax=7  # Set the maximum color scale value (adjust as needed)\n",
    "#         )],\n",
    "#         name=fname\n",
    "#     ))\n",
    "\n",
    "# # Add initial data\n",
    "# rho = get_data2d(fname=file_list[0], verbose=False, key='rho')\n",
    "# press = get_data2d(fname=file_list[0], verbose=False, key='press')\n",
    "# temperature = calc_T(press, rho)\n",
    "\n",
    "# fig.add_trace(go.Volume(\n",
    "#     x=X.flatten(),\n",
    "#     y=Y.flatten(),\n",
    "#     z=Z.flatten(),\n",
    "#     value=np.log10(temperature.flatten()),\n",
    "#     opacity=0.1,  # needs to be small to see through all surfaces\n",
    "#     surface_count=1,  # Display only one surface\n",
    "#     isomin=np.log10(T_cold),  # Minimum temperature for isosurface\n",
    "#     isomax=np.log10(T_cold),  # Maximum temperature for isosurface\n",
    "#     colorscale=[[0.0, \"rgb(0,0,0)\"], [1.0, \"rgb(0,0,0)\"]],#'RdBu_r',\n",
    "#     colorbar=dict(title='Temperature')\n",
    "# ))\n",
    "\n",
    "# # Add frames to figure\n",
    "# fig.frames = frames\n",
    "\n",
    "# # Add animation settings\n",
    "# fig.update_layout(\n",
    "#     updatemenus=[{\n",
    "#         'buttons': [\n",
    "#             {\n",
    "#                 'args': [None, {'frame': {'duration': 500, 'redraw': True}, 'fromcurrent': True}],\n",
    "#                 'label': 'Play',\n",
    "#                 'method': 'animate'\n",
    "#             },\n",
    "#             {\n",
    "#                 'args': [[None], {'frame': {'duration': 0, 'redraw': True}, 'mode': 'immediate', 'transition': {'duration': 0}}],\n",
    "#                 'label': 'Pause',\n",
    "#                 'method': 'animate'\n",
    "#             }\n",
    "#         ],\n",
    "#         'direction': 'left',\n",
    "#         'pad': {'r': 10, 't': 87},\n",
    "#         'showactive': False,\n",
    "#         'type': 'buttons',\n",
    "#         'x': 0.1,\n",
    "#         'xanchor': 'right',\n",
    "#         'y': 0,\n",
    "#         'yanchor': 'top'\n",
    "#     }]\n",
    "# )\n",
    "\n",
    "# fig.update_layout(\n",
    "#     sliders=[{\n",
    "#         'active': 0,\n",
    "#         'yanchor': 'top',\n",
    "#         'xanchor': 'left',\n",
    "#         'currentvalue': {\n",
    "#             'font': {'size': 20},\n",
    "#             'prefix': 'Frame:',\n",
    "#             'visible': True,\n",
    "#             'xanchor': 'right'\n",
    "#         },\n",
    "#         'transition': {'duration': 30},\n",
    "#         'pad': {'b': 10, 't': 50},\n",
    "#         'len': 0.9,\n",
    "#         'x': 0.1,\n",
    "#         'y': 0,\n",
    "#         'steps': [{\n",
    "#             'args': [[fname], {'frame': {'duration': 30, 'redraw': True}, 'mode': 'immediate', 'transition': {'duration': 30}}],\n",
    "#             'label': fname,\n",
    "#             'method': 'animate'\n",
    "#         } for fname in file_list]\n",
    "#     }]\n",
    "# )\n",
    "\n",
    "# fig.write_html(\"temperature_animation_fast.html\")\n",
    "# fig.show()"
   ]
  },
  {
   "cell_type": "markdown",
   "id": "79318897-8e10-430a-9cc5-f60100831e3c",
   "metadata": {},
   "source": [
    "## Other quantities"
   ]
  },
  {
   "cell_type": "code",
   "execution_count": null,
   "id": "01f6e52c-8aaf-455e-a763-16faf1ad96d9",
   "metadata": {},
   "outputs": [],
   "source": [
    "# def visualize_3d(fname=f'{datapath}/turb_240528/Turb.out3.00004.athdf', verbose=True, key='dens'):\n",
    "fname=f'{datapath}/turb_240529/cloud/Turb.out2.00200.athdf'; verbose=True; key = 'rho'\n",
    "%matplotlib widget\n",
    "from matplotlib.widgets import Button, Slider\n",
    "\n",
    "# plot density\n",
    "z_range = [0, 31]\n",
    "z_init = 10\n",
    "data = get_data2d(fname=fname, verbose=verbose, key=key)\n",
    "fig, ax = plt.subplots(figsize=(5, 5), dpi=100)\n",
    "img = plt.imshow(data[z_init], interpolation='none', norm='log')\n",
    "# plt.title('Density')\n",
    "plt.colorbar()\n",
    "\n",
    "plt.ioff()\n",
    "\n",
    "# Make a horizontal slider to control the z slice\n",
    "ax_slider = fig.add_axes([0.25, 0.90, 0.5, 0.05])\n",
    "redshift_slider = Slider(\n",
    "    ax=ax_slider,\n",
    "    label=r'z value',\n",
    "    valmin=z_range[0],\n",
    "    valmax=z_range[1],\n",
    "    valinit=z_init,\n",
    "    valstep=1.\n",
    ")\n",
    "\n",
    "# The function to be called anytime a slider's value changes\n",
    "def update(z):\n",
    "    # update to redshift\n",
    "    img.set_data(data[int(z)])\n",
    "    fig.canvas.draw_idle()\n",
    "redshift_slider.on_changed(update)  # register the update function with each slider\n",
    "\n",
    "# Create a button to reset the sliders to initial values.\n",
    "resetax = fig.add_axes([0.8, 0.9, 0.1, 0.04])\n",
    "button = Button(resetax, 'Reset', hovercolor='0.975')\n",
    "def reset(event):\n",
    "    redshift_slider.reset()\n",
    "button.on_clicked(reset)"
   ]
  },
  {
   "cell_type": "markdown",
   "id": "8f2741d6-56dc-410d-80bc-b3ab35c5b24e",
   "metadata": {},
   "source": [
    "# Check cold gas evolution"
   ]
  },
  {
   "cell_type": "code",
   "execution_count": null,
   "id": "cb425a29-44df-49cb-b73b-2c1dd95a136d",
   "metadata": {},
   "outputs": [],
   "source": []
  },
  {
   "cell_type": "code",
   "execution_count": null,
   "id": "4d95db52-c46a-485d-ae7a-6afd41e9de62",
   "metadata": {},
   "outputs": [],
   "source": []
  }
 ],
 "metadata": {
  "kernelspec": {
   "display_name": "Python 3 (ipykernel)",
   "language": "python",
   "name": "python3"
  },
  "language_info": {
   "codemirror_mode": {
    "name": "ipython",
    "version": 3
   },
   "file_extension": ".py",
   "mimetype": "text/x-python",
   "name": "python",
   "nbconvert_exporter": "python",
   "pygments_lexer": "ipython3",
   "version": "3.12.2"
  }
 },
 "nbformat": 4,
 "nbformat_minor": 5
}
